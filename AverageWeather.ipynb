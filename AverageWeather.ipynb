{
 "cells": [
  {
   "cell_type": "markdown",
   "metadata": {},
   "source": [
    "## Importing Libraries"
   ]
  },
  {
   "cell_type": "code",
   "execution_count": 1,
   "metadata": {},
   "outputs": [],
   "source": [
    "import numpy as np\n",
    "import pandas as pd\n",
    "import plotly.graph_objects as go\n",
    "from IPython.display import display\n",
    "from bs4 import BeautifulSoup\n",
    "import pandas as pd\n"
   ]
  },
  {
   "cell_type": "markdown",
   "metadata": {},
   "source": [
    "## Read data from HTML file "
   ]
  },
  {
   "cell_type": "code",
   "execution_count": 2,
   "metadata": {},
   "outputs": [],
   "source": [
    "weatherdf= pd.read_html('Datasets/weather_df.html', skiprows=1)[0]"
   ]
  },
  {
   "cell_type": "code",
   "execution_count": 3,
   "metadata": {},
   "outputs": [
    {
     "data": {
      "text/html": [
       "<div>\n",
       "<style scoped>\n",
       "    .dataframe tbody tr th:only-of-type {\n",
       "        vertical-align: middle;\n",
       "    }\n",
       "\n",
       "    .dataframe tbody tr th {\n",
       "        vertical-align: top;\n",
       "    }\n",
       "\n",
       "    .dataframe thead th {\n",
       "        text-align: right;\n",
       "    }\n",
       "</style>\n",
       "<table border=\"1\" class=\"dataframe\">\n",
       "  <thead>\n",
       "    <tr style=\"text-align: right;\">\n",
       "      <th></th>\n",
       "      <th>0</th>\n",
       "      <th>1</th>\n",
       "      <th>2015-03-14</th>\n",
       "      <th>27.9</th>\n",
       "      <th>0.540</th>\n",
       "      <th>?</th>\n",
       "    </tr>\n",
       "  </thead>\n",
       "  <tbody>\n",
       "    <tr>\n",
       "      <th>0</th>\n",
       "      <td>1</td>\n",
       "      <td>2</td>\n",
       "      <td>2015-03-15</td>\n",
       "      <td>28.1</td>\n",
       "      <td>0.563</td>\n",
       "      <td>1</td>\n",
       "    </tr>\n",
       "    <tr>\n",
       "      <th>1</th>\n",
       "      <td>2</td>\n",
       "      <td>3</td>\n",
       "      <td>2015-03-16</td>\n",
       "      <td>29.2</td>\n",
       "      <td>0.604</td>\n",
       "      <td>1</td>\n",
       "    </tr>\n",
       "    <tr>\n",
       "      <th>2</th>\n",
       "      <td>3</td>\n",
       "      <td>4</td>\n",
       "      <td>2015-03-17</td>\n",
       "      <td>31.4</td>\n",
       "      <td>0.637</td>\n",
       "      <td>1</td>\n",
       "    </tr>\n",
       "    <tr>\n",
       "      <th>3</th>\n",
       "      <td>4</td>\n",
       "      <td>5</td>\n",
       "      <td>2015-03-18</td>\n",
       "      <td>31.4</td>\n",
       "      <td>0.658</td>\n",
       "      <td>1</td>\n",
       "    </tr>\n",
       "    <tr>\n",
       "      <th>4</th>\n",
       "      <td>5</td>\n",
       "      <td>6</td>\n",
       "      <td>2015-03-19</td>\n",
       "      <td>31.4</td>\n",
       "      <td>0.662</td>\n",
       "      <td>1</td>\n",
       "    </tr>\n",
       "  </tbody>\n",
       "</table>\n",
       "</div>"
      ],
      "text/plain": [
       "   0  1  2015-03-14  27.9  0.540  ?\n",
       "0  1  2  2015-03-15  28.1  0.563  1\n",
       "1  2  3  2015-03-16  29.2  0.604  1\n",
       "2  3  4  2015-03-17  31.4  0.637  1\n",
       "3  4  5  2015-03-18  31.4  0.658  1\n",
       "4  5  6  2015-03-19  31.4  0.662  1"
      ]
     },
     "execution_count": 3,
     "metadata": {},
     "output_type": "execute_result"
    }
   ],
   "source": [
    "weatherdf.head()"
   ]
  },
  {
   "cell_type": "markdown",
   "metadata": {},
   "source": [
    "## Getting dataframe ready"
   ]
  },
  {
   "cell_type": "markdown",
   "metadata": {},
   "source": [
    "Again, we do not have it in correct dataframe format. Let's first get the required dataframe."
   ]
  },
  {
   "cell_type": "code",
   "execution_count": 4,
   "metadata": {},
   "outputs": [],
   "source": [
    "weatherdf.drop(columns=weatherdf.columns[0], axis=1, inplace=True)"
   ]
  },
  {
   "cell_type": "code",
   "execution_count": 5,
   "metadata": {},
   "outputs": [
    {
     "data": {
      "text/html": [
       "<div>\n",
       "<style scoped>\n",
       "    .dataframe tbody tr th:only-of-type {\n",
       "        vertical-align: middle;\n",
       "    }\n",
       "\n",
       "    .dataframe tbody tr th {\n",
       "        vertical-align: top;\n",
       "    }\n",
       "\n",
       "    .dataframe thead th {\n",
       "        text-align: right;\n",
       "    }\n",
       "</style>\n",
       "<table border=\"1\" class=\"dataframe\">\n",
       "  <thead>\n",
       "    <tr style=\"text-align: right;\">\n",
       "      <th></th>\n",
       "      <th>1</th>\n",
       "      <th>2015-03-14</th>\n",
       "      <th>27.9</th>\n",
       "      <th>0.540</th>\n",
       "      <th>?</th>\n",
       "    </tr>\n",
       "  </thead>\n",
       "  <tbody>\n",
       "    <tr>\n",
       "      <th>0</th>\n",
       "      <td>2</td>\n",
       "      <td>2015-03-15</td>\n",
       "      <td>28.1</td>\n",
       "      <td>0.563</td>\n",
       "      <td>1</td>\n",
       "    </tr>\n",
       "    <tr>\n",
       "      <th>1</th>\n",
       "      <td>3</td>\n",
       "      <td>2015-03-16</td>\n",
       "      <td>29.2</td>\n",
       "      <td>0.604</td>\n",
       "      <td>1</td>\n",
       "    </tr>\n",
       "    <tr>\n",
       "      <th>2</th>\n",
       "      <td>4</td>\n",
       "      <td>2015-03-17</td>\n",
       "      <td>31.4</td>\n",
       "      <td>0.637</td>\n",
       "      <td>1</td>\n",
       "    </tr>\n",
       "    <tr>\n",
       "      <th>3</th>\n",
       "      <td>5</td>\n",
       "      <td>2015-03-18</td>\n",
       "      <td>31.4</td>\n",
       "      <td>0.658</td>\n",
       "      <td>1</td>\n",
       "    </tr>\n",
       "    <tr>\n",
       "      <th>4</th>\n",
       "      <td>6</td>\n",
       "      <td>2015-03-19</td>\n",
       "      <td>31.4</td>\n",
       "      <td>0.662</td>\n",
       "      <td>1</td>\n",
       "    </tr>\n",
       "    <tr>\n",
       "      <th>...</th>\n",
       "      <td>...</td>\n",
       "      <td>...</td>\n",
       "      <td>...</td>\n",
       "      <td>...</td>\n",
       "      <td>...</td>\n",
       "    </tr>\n",
       "    <tr>\n",
       "      <th>777</th>\n",
       "      <td>779</td>\n",
       "      <td>2017-04-30</td>\n",
       "      <td>32.2</td>\n",
       "      <td>0.541</td>\n",
       "      <td>1</td>\n",
       "    </tr>\n",
       "    <tr>\n",
       "      <th>778</th>\n",
       "      <td>780</td>\n",
       "      <td>2017-05-01</td>\n",
       "      <td>30.5</td>\n",
       "      <td>0.484</td>\n",
       "      <td>1</td>\n",
       "    </tr>\n",
       "    <tr>\n",
       "      <th>779</th>\n",
       "      <td>781</td>\n",
       "      <td>2017-05-02</td>\n",
       "      <td>29.6</td>\n",
       "      <td>0.539</td>\n",
       "      <td>1</td>\n",
       "    </tr>\n",
       "    <tr>\n",
       "      <th>780</th>\n",
       "      <td>782</td>\n",
       "      <td>2017-05-03</td>\n",
       "      <td>28.4</td>\n",
       "      <td>0.568</td>\n",
       "      <td>1</td>\n",
       "    </tr>\n",
       "    <tr>\n",
       "      <th>781</th>\n",
       "      <td>783</td>\n",
       "      <td>2017-05-04</td>\n",
       "      <td>27.9</td>\n",
       "      <td>0.542</td>\n",
       "      <td>1</td>\n",
       "    </tr>\n",
       "  </tbody>\n",
       "</table>\n",
       "<p>782 rows × 5 columns</p>\n",
       "</div>"
      ],
      "text/plain": [
       "       1  2015-03-14  27.9  0.540  ?\n",
       "0      2  2015-03-15  28.1  0.563  1\n",
       "1      3  2015-03-16  29.2  0.604  1\n",
       "2      4  2015-03-17  31.4  0.637  1\n",
       "3      5  2015-03-18  31.4  0.658  1\n",
       "4      6  2015-03-19  31.4  0.662  1\n",
       "..   ...         ...   ...    ... ..\n",
       "777  779  2017-04-30  32.2  0.541  1\n",
       "778  780  2017-05-01  30.5  0.484  1\n",
       "779  781  2017-05-02  29.6  0.539  1\n",
       "780  782  2017-05-03  28.4  0.568  1\n",
       "781  783  2017-05-04  27.9  0.542  1\n",
       "\n",
       "[782 rows x 5 columns]"
      ]
     },
     "execution_count": 5,
     "metadata": {},
     "output_type": "execute_result"
    }
   ],
   "source": [
    "weatherdf"
   ]
  },
  {
   "cell_type": "code",
   "execution_count": 6,
   "metadata": {},
   "outputs": [],
   "source": [
    "weatherdf.columns=['Index',\t'Date',\t'Temperature', 'Humidity' ,'Wind level']"
   ]
  },
  {
   "cell_type": "code",
   "execution_count": 7,
   "metadata": {},
   "outputs": [
    {
     "data": {
      "text/html": [
       "<div>\n",
       "<style scoped>\n",
       "    .dataframe tbody tr th:only-of-type {\n",
       "        vertical-align: middle;\n",
       "    }\n",
       "\n",
       "    .dataframe tbody tr th {\n",
       "        vertical-align: top;\n",
       "    }\n",
       "\n",
       "    .dataframe thead th {\n",
       "        text-align: right;\n",
       "    }\n",
       "</style>\n",
       "<table border=\"1\" class=\"dataframe\">\n",
       "  <thead>\n",
       "    <tr style=\"text-align: right;\">\n",
       "      <th></th>\n",
       "      <th>Index</th>\n",
       "      <th>Date</th>\n",
       "      <th>Temperature</th>\n",
       "      <th>Humidity</th>\n",
       "      <th>Wind level</th>\n",
       "    </tr>\n",
       "  </thead>\n",
       "  <tbody>\n",
       "    <tr>\n",
       "      <th>0</th>\n",
       "      <td>2</td>\n",
       "      <td>2015-03-15</td>\n",
       "      <td>28.1</td>\n",
       "      <td>0.563</td>\n",
       "      <td>1</td>\n",
       "    </tr>\n",
       "    <tr>\n",
       "      <th>1</th>\n",
       "      <td>3</td>\n",
       "      <td>2015-03-16</td>\n",
       "      <td>29.2</td>\n",
       "      <td>0.604</td>\n",
       "      <td>1</td>\n",
       "    </tr>\n",
       "    <tr>\n",
       "      <th>2</th>\n",
       "      <td>4</td>\n",
       "      <td>2015-03-17</td>\n",
       "      <td>31.4</td>\n",
       "      <td>0.637</td>\n",
       "      <td>1</td>\n",
       "    </tr>\n",
       "    <tr>\n",
       "      <th>3</th>\n",
       "      <td>5</td>\n",
       "      <td>2015-03-18</td>\n",
       "      <td>31.4</td>\n",
       "      <td>0.658</td>\n",
       "      <td>1</td>\n",
       "    </tr>\n",
       "    <tr>\n",
       "      <th>4</th>\n",
       "      <td>6</td>\n",
       "      <td>2015-03-19</td>\n",
       "      <td>31.4</td>\n",
       "      <td>0.662</td>\n",
       "      <td>1</td>\n",
       "    </tr>\n",
       "    <tr>\n",
       "      <th>...</th>\n",
       "      <td>...</td>\n",
       "      <td>...</td>\n",
       "      <td>...</td>\n",
       "      <td>...</td>\n",
       "      <td>...</td>\n",
       "    </tr>\n",
       "    <tr>\n",
       "      <th>777</th>\n",
       "      <td>779</td>\n",
       "      <td>2017-04-30</td>\n",
       "      <td>32.2</td>\n",
       "      <td>0.541</td>\n",
       "      <td>1</td>\n",
       "    </tr>\n",
       "    <tr>\n",
       "      <th>778</th>\n",
       "      <td>780</td>\n",
       "      <td>2017-05-01</td>\n",
       "      <td>30.5</td>\n",
       "      <td>0.484</td>\n",
       "      <td>1</td>\n",
       "    </tr>\n",
       "    <tr>\n",
       "      <th>779</th>\n",
       "      <td>781</td>\n",
       "      <td>2017-05-02</td>\n",
       "      <td>29.6</td>\n",
       "      <td>0.539</td>\n",
       "      <td>1</td>\n",
       "    </tr>\n",
       "    <tr>\n",
       "      <th>780</th>\n",
       "      <td>782</td>\n",
       "      <td>2017-05-03</td>\n",
       "      <td>28.4</td>\n",
       "      <td>0.568</td>\n",
       "      <td>1</td>\n",
       "    </tr>\n",
       "    <tr>\n",
       "      <th>781</th>\n",
       "      <td>783</td>\n",
       "      <td>2017-05-04</td>\n",
       "      <td>27.9</td>\n",
       "      <td>0.542</td>\n",
       "      <td>1</td>\n",
       "    </tr>\n",
       "  </tbody>\n",
       "</table>\n",
       "<p>782 rows × 5 columns</p>\n",
       "</div>"
      ],
      "text/plain": [
       "     Index        Date  Temperature  Humidity Wind level\n",
       "0        2  2015-03-15         28.1     0.563          1\n",
       "1        3  2015-03-16         29.2     0.604          1\n",
       "2        4  2015-03-17         31.4     0.637          1\n",
       "3        5  2015-03-18         31.4     0.658          1\n",
       "4        6  2015-03-19         31.4     0.662          1\n",
       "..     ...         ...          ...       ...        ...\n",
       "777    779  2017-04-30         32.2     0.541          1\n",
       "778    780  2017-05-01         30.5     0.484          1\n",
       "779    781  2017-05-02         29.6     0.539          1\n",
       "780    782  2017-05-03         28.4     0.568          1\n",
       "781    783  2017-05-04         27.9     0.542          1\n",
       "\n",
       "[782 rows x 5 columns]"
      ]
     },
     "execution_count": 7,
     "metadata": {},
     "output_type": "execute_result"
    }
   ],
   "source": [
    "weatherdf"
   ]
  },
  {
   "cell_type": "markdown",
   "metadata": {},
   "source": [
    "## Data Vizualization"
   ]
  },
  {
   "cell_type": "code",
   "execution_count": 8,
   "metadata": {},
   "outputs": [
    {
     "data": {
      "application/vnd.plotly.v1+json": {
       "config": {
        "plotlyServerURL": "https://plot.ly"
       },
       "data": [
        {
         "type": "histogram",
         "x": [
          28.1,
          29.2,
          31.4,
          31.4,
          31.4,
          33.6,
          34.9,
          34.5,
          35.4,
          34.4,
          34.2,
          33.9,
          29.7,
          28,
          27.7,
          24.6,
          24.1,
          23.7,
          21.3,
          23.9,
          24.3,
          24.2,
          24.9,
          26.4,
          27.4,
          27.2,
          27.3,
          27.7,
          29.2,
          26.5,
          29.2,
          29.1,
          29.5,
          31.2,
          29.4,
          31.1,
          28,
          27,
          27.5,
          29.1,
          26.8,
          26.6,
          27.4,
          24.3,
          24.8,
          23.7,
          27.4,
          29.3,
          26.6,
          25.8,
          24.9,
          23.9,
          24.9,
          27.8,
          29.6,
          28.9,
          26.8,
          26.5,
          29.7,
          28.4,
          28.3,
          27.4,
          24.8,
          24.1,
          24.3,
          24.9,
          26.3,
          25.9,
          23.5,
          24.1,
          26,
          26.9,
          30,
          25.2,
          24.1,
          23.9,
          21.8,
          21.1,
          18.9,
          17.7,
          15.8,
          17.3,
          14.1,
          16,
          13.9,
          14.5,
          14.8,
          13.5,
          16.3,
          16.2,
          16.5,
          13.3,
          13,
          13.1,
          11.4,
          10.2,
          9.6,
          9.8,
          8.4,
          6,
          3.8,
          3.7,
          2.7,
          2.5,
          4.4,
          6,
          5.5,
          5.3,
          5.1,
          4,
          4.1,
          4.1,
          7.9,
          7.4,
          6.8,
          4,
          1.8,
          2.6,
          3.2,
          6.3,
          4.7,
          6.1,
          0.7,
          1.4,
          3.4,
          1.8,
          2.2,
          0.5,
          -1.4,
          -4.8,
          -3.9,
          -7.4,
          -5.3,
          -7.5,
          -8.7,
          -8.7,
          -8.7,
          -8.1,
          -9.3,
          -7.3,
          -6,
          -7,
          -7.6,
          -6.3,
          -7.6,
          -8.4,
          -9.9,
          -10.5,
          -8.8,
          -9,
          -10.4,
          -9.4,
          -9.5,
          -9.7,
          -11.8,
          -8,
          -5.9,
          -8.2,
          -7.9,
          -9.6,
          -9.2,
          -7,
          -8.5,
          -7.7,
          -6.4,
          -7.9,
          -6.2,
          -5.1,
          -7,
          -6.9,
          -9.1,
          -10.7,
          -9.3,
          -10.3,
          -9.8,
          -10.9,
          -11.6,
          -11.6,
          -7.3,
          -5.4,
          -5.5,
          -6.8,
          -6.7,
          -7.3,
          -7.5,
          -7,
          -8.9,
          -9.7,
          -15.1,
          -16.5,
          -14.3,
          -12.7,
          -14.9,
          -14.5,
          -14.9,
          -16.6,
          -16.3,
          -15.2,
          -14.7,
          -13.7,
          -14.1,
          -13,
          -10,
          -12,
          -13.7,
          -11.9,
          -11.5,
          -10.9,
          -4.5,
          -4.2,
          -3.5,
          -3.7,
          -4.2,
          -2.8,
          -0.7,
          -2.3,
          -3.3,
          -4.5,
          -9.4,
          -7.1,
          -11,
          -11.3,
          -14.2,
          -14.4,
          -14,
          -12.9,
          -13.9,
          -14.2,
          -13.5,
          -17.3,
          -14.7,
          -15.5,
          -14.2,
          -10.9,
          -11.4,
          -14.1,
          -12.4,
          -12.3,
          -12.1,
          -12.1,
          -12.5,
          -11.9,
          -9.9,
          -14.1,
          -15.3,
          -13.3,
          -14.3,
          -11.1,
          -11.6,
          -12.1,
          -10.7,
          -8.6,
          -8.3,
          -8.6,
          -8.7,
          -6.4,
          -6.3,
          -7.9,
          -7.3,
          -6.8,
          -7.9,
          -14.6,
          -17.1,
          -15.3,
          -16.1,
          -15.5,
          -16.3,
          -17.2,
          -17.9,
          -14.7,
          -16.2,
          -10.4,
          -8.9,
          -9.6,
          -7.2,
          -8.8,
          -7.5,
          -6.6,
          -7,
          -8.5,
          -5.6,
          -4.8,
          -6.1,
          -1.8,
          -4.6,
          -4.8,
          -3,
          -2.4,
          -2.4,
          -2.5,
          -3.6,
          -6.1,
          -3.1,
          -5,
          -3,
          -1.3,
          -1.3,
          -0.3,
          1.7,
          1.3,
          1.6,
          3.7,
          3.8,
          3.7,
          5.1,
          6,
          5.3,
          5.3,
          4.7,
          5.9,
          8.5,
          9,
          9.7,
          11.8,
          12.1,
          11.8,
          12.6,
          12.8,
          13.4,
          14.2,
          14,
          12.4,
          14.5,
          12,
          10.9,
          12,
          13.8,
          14.7,
          16.1,
          16.5,
          15,
          16.6,
          13.6,
          16.6,
          18.4,
          16.3,
          15.4,
          15.5,
          14.5,
          13.9,
          15.8,
          16.5,
          17.1,
          15.7,
          16.6,
          16.3,
          15.3,
          14.3,
          15.2,
          17,
          19,
          20.2,
          21,
          22,
          20.8,
          23,
          24.8,
          26.5,
          26.1,
          26.7,
          27.1,
          26.2,
          27.3,
          28.5,
          29.6,
          30.2,
          30.9,
          30.9,
          31.2,
          30.9,
          29.8,
          32,
          33,
          35.1,
          34.8,
          35.9,
          36.3,
          39.2,
          39.3,
          38.4,
          37.1,
          32.7,
          30.9,
          27.3,
          28.6,
          28,
          30.3,
          28.8,
          29.2,
          29.1,
          30.6,
          31.6,
          34.7,
          37.2,
          36.4,
          33.7,
          33,
          31.6,
          33.9,
          33,
          31.5,
          33.1,
          30.8,
          28.6,
          29.9,
          30.6,
          28.5,
          28.7,
          27.6,
          30.4,
          29.5,
          27.4,
          28.7,
          29.5,
          27.5,
          30.7,
          30.8,
          31.9,
          31,
          32.5,
          35.9,
          37.2,
          36.6,
          36.6,
          39,
          35.5,
          35.9,
          35.4,
          32.7,
          28.2,
          23,
          22.6,
          22,
          22.7,
          20.6,
          23.5,
          20.5,
          16.6,
          18.3,
          19.9,
          22.1,
          19.4,
          17.9,
          13.9,
          14.2,
          12.1,
          12.3,
          13.3,
          11.6,
          10.6,
          11.4,
          12.3,
          12.6,
          13.1,
          10.8,
          9.7,
          9.1,
          8.6,
          8,
          10.1,
          8.5,
          8.4,
          7.5,
          7.6,
          7.8,
          8.3,
          10.1,
          9.7,
          10,
          6.7,
          3.3,
          1.8,
          2.8,
          4.6,
          4.1,
          3.6,
          2.6,
          6.8,
          8.5,
          8.3,
          9.6,
          9.1,
          7.2,
          3.7,
          1.8,
          -0.2,
          -2.4,
          -4.5,
          -5.2,
          -5.4,
          -2.7,
          -0.9,
          -2.6,
          -0.1,
          2.1,
          1.2,
          2,
          -1.6,
          -4.8,
          -3.9,
          -3.7,
          -5.8,
          -4.3,
          -7.4,
          -9,
          -8.7,
          -9.8,
          -8.9,
          -8.5,
          -9.6,
          -12.3,
          -11.1,
          -13.2,
          -13.3,
          -11.9,
          -10.7,
          -11.1,
          -11.2,
          -9.4,
          -12.1,
          -11.5,
          -12.2,
          -10.5,
          -10.9,
          -14.3,
          -17.1,
          -16,
          -15.9,
          -18.2,
          -15.3,
          -18.3,
          -17.6,
          -20,
          -20,
          -17.7,
          -16.8,
          -17.4,
          -16.6,
          -16.2,
          -16.1,
          -15.4,
          -14.7,
          -11.4,
          -13.8,
          -14.9,
          -13.1,
          -13,
          -13.8,
          -13.9,
          -14.9,
          -13.7,
          -12.9,
          -14.4,
          -10.9,
          -10.4,
          -11.8,
          -12.1,
          -12.1,
          -11.9,
          -11.6,
          -8.8,
          -9.2,
          -9.9,
          -8.8,
          -8.8,
          -10.8,
          -11.5,
          -14.4,
          -14.3,
          -14.7,
          -15.2,
          -15.9,
          -15.8,
          -16.2,
          -18.5,
          -15.6,
          -13.4,
          -12.9,
          -11,
          -10.5,
          -13.2,
          -12.8,
          -9.6,
          -10.5,
          -7.3,
          -8.2,
          -10.3,
          -7.3,
          -9.9,
          -10.2,
          -10.3,
          -10.5,
          -12.9,
          -11.8,
          -12.8,
          -12.5,
          -12.7,
          -14.3,
          -12.7,
          -11.8,
          -12.4,
          -11.8,
          -10.5,
          -11.3,
          -8.2,
          -8.8,
          -9.1,
          -10.8,
          -9.3,
          -9.4,
          -8.2,
          -8.9,
          -12,
          -9.4,
          -11.5,
          -10.3,
          -7.7,
          -4.8,
          -6.3,
          -8,
          -7.3,
          -5.1,
          -1.9,
          -2.8,
          -3.5,
          -4.8,
          -5.8,
          -6.2,
          -4.9,
          -5.9,
          -4.4,
          -6.9,
          -9,
          -12.1,
          -13.4,
          -10.9,
          -10.5,
          -12,
          -14.8,
          -12.9,
          -12.5,
          -12.4,
          -13.5,
          -12.3,
          -10.3,
          -14.6,
          -14.5,
          -12.9,
          -10,
          -7,
          -7.4,
          -7.1,
          -6.3,
          -2.4,
          -1.7,
          2.1,
          2.5,
          3.4,
          2.6,
          -0.1,
          -1.9,
          -1.3,
          -0.2,
          -4,
          -3.6,
          -3.6,
          -1.2,
          -4.5,
          -2.5,
          0.2,
          -1.3,
          -1.3,
          -0.7,
          -1.1,
          -1.8,
          -2.5,
          -1.8,
          3.3,
          3.9,
          3.7,
          5.4,
          5.6,
          7.1,
          7.8,
          10.2,
          11.7,
          9.5,
          9.7,
          9.1,
          8.2,
          11.5,
          11.3,
          11.9,
          14.7,
          13.9,
          15.1,
          14.4,
          15.2,
          14.8,
          15.1,
          15.4,
          16.4,
          14.2,
          11.9,
          13.6,
          12,
          16.3,
          12.9,
          15.7,
          17.1,
          16.1,
          16.7,
          19.5,
          21.8,
          22.9,
          25.1,
          23.4,
          26,
          24.2,
          24.7,
          23,
          22.4,
          23.2,
          23.8,
          22.5,
          22.8,
          23.4,
          23.5,
          22.9,
          23.1,
          24.3,
          26.9,
          24,
          25.4,
          26.5,
          27.1,
          28.2,
          31.2,
          33.8,
          31.4,
          31.2,
          30.1,
          32.5,
          32,
          30.7,
          30.8,
          28.7,
          25.9,
          23,
          24.3,
          24.3,
          23.9,
          25.3,
          23.5,
          27.9,
          28.3,
          29.6,
          29.3,
          32,
          32.5,
          34.4,
          38.9,
          37.4,
          40,
          35.7,
          35,
          36.9,
          37.1,
          38.4,
          40,
          39,
          36.4,
          37.6,
          36.8,
          35.5,
          34.5,
          31.7,
          32.2,
          30.5,
          29.6,
          28.4,
          27.9
         ]
        }
       ],
       "layout": {
        "height": 400,
        "template": {
         "data": {
          "bar": [
           {
            "error_x": {
             "color": "#2a3f5f"
            },
            "error_y": {
             "color": "#2a3f5f"
            },
            "marker": {
             "line": {
              "color": "#E5ECF6",
              "width": 0.5
             },
             "pattern": {
              "fillmode": "overlay",
              "size": 10,
              "solidity": 0.2
             }
            },
            "type": "bar"
           }
          ],
          "barpolar": [
           {
            "marker": {
             "line": {
              "color": "#E5ECF6",
              "width": 0.5
             },
             "pattern": {
              "fillmode": "overlay",
              "size": 10,
              "solidity": 0.2
             }
            },
            "type": "barpolar"
           }
          ],
          "carpet": [
           {
            "aaxis": {
             "endlinecolor": "#2a3f5f",
             "gridcolor": "white",
             "linecolor": "white",
             "minorgridcolor": "white",
             "startlinecolor": "#2a3f5f"
            },
            "baxis": {
             "endlinecolor": "#2a3f5f",
             "gridcolor": "white",
             "linecolor": "white",
             "minorgridcolor": "white",
             "startlinecolor": "#2a3f5f"
            },
            "type": "carpet"
           }
          ],
          "choropleth": [
           {
            "colorbar": {
             "outlinewidth": 0,
             "ticks": ""
            },
            "type": "choropleth"
           }
          ],
          "contour": [
           {
            "colorbar": {
             "outlinewidth": 0,
             "ticks": ""
            },
            "colorscale": [
             [
              0,
              "#0d0887"
             ],
             [
              0.1111111111111111,
              "#46039f"
             ],
             [
              0.2222222222222222,
              "#7201a8"
             ],
             [
              0.3333333333333333,
              "#9c179e"
             ],
             [
              0.4444444444444444,
              "#bd3786"
             ],
             [
              0.5555555555555556,
              "#d8576b"
             ],
             [
              0.6666666666666666,
              "#ed7953"
             ],
             [
              0.7777777777777778,
              "#fb9f3a"
             ],
             [
              0.8888888888888888,
              "#fdca26"
             ],
             [
              1,
              "#f0f921"
             ]
            ],
            "type": "contour"
           }
          ],
          "contourcarpet": [
           {
            "colorbar": {
             "outlinewidth": 0,
             "ticks": ""
            },
            "type": "contourcarpet"
           }
          ],
          "heatmap": [
           {
            "colorbar": {
             "outlinewidth": 0,
             "ticks": ""
            },
            "colorscale": [
             [
              0,
              "#0d0887"
             ],
             [
              0.1111111111111111,
              "#46039f"
             ],
             [
              0.2222222222222222,
              "#7201a8"
             ],
             [
              0.3333333333333333,
              "#9c179e"
             ],
             [
              0.4444444444444444,
              "#bd3786"
             ],
             [
              0.5555555555555556,
              "#d8576b"
             ],
             [
              0.6666666666666666,
              "#ed7953"
             ],
             [
              0.7777777777777778,
              "#fb9f3a"
             ],
             [
              0.8888888888888888,
              "#fdca26"
             ],
             [
              1,
              "#f0f921"
             ]
            ],
            "type": "heatmap"
           }
          ],
          "heatmapgl": [
           {
            "colorbar": {
             "outlinewidth": 0,
             "ticks": ""
            },
            "colorscale": [
             [
              0,
              "#0d0887"
             ],
             [
              0.1111111111111111,
              "#46039f"
             ],
             [
              0.2222222222222222,
              "#7201a8"
             ],
             [
              0.3333333333333333,
              "#9c179e"
             ],
             [
              0.4444444444444444,
              "#bd3786"
             ],
             [
              0.5555555555555556,
              "#d8576b"
             ],
             [
              0.6666666666666666,
              "#ed7953"
             ],
             [
              0.7777777777777778,
              "#fb9f3a"
             ],
             [
              0.8888888888888888,
              "#fdca26"
             ],
             [
              1,
              "#f0f921"
             ]
            ],
            "type": "heatmapgl"
           }
          ],
          "histogram": [
           {
            "marker": {
             "pattern": {
              "fillmode": "overlay",
              "size": 10,
              "solidity": 0.2
             }
            },
            "type": "histogram"
           }
          ],
          "histogram2d": [
           {
            "colorbar": {
             "outlinewidth": 0,
             "ticks": ""
            },
            "colorscale": [
             [
              0,
              "#0d0887"
             ],
             [
              0.1111111111111111,
              "#46039f"
             ],
             [
              0.2222222222222222,
              "#7201a8"
             ],
             [
              0.3333333333333333,
              "#9c179e"
             ],
             [
              0.4444444444444444,
              "#bd3786"
             ],
             [
              0.5555555555555556,
              "#d8576b"
             ],
             [
              0.6666666666666666,
              "#ed7953"
             ],
             [
              0.7777777777777778,
              "#fb9f3a"
             ],
             [
              0.8888888888888888,
              "#fdca26"
             ],
             [
              1,
              "#f0f921"
             ]
            ],
            "type": "histogram2d"
           }
          ],
          "histogram2dcontour": [
           {
            "colorbar": {
             "outlinewidth": 0,
             "ticks": ""
            },
            "colorscale": [
             [
              0,
              "#0d0887"
             ],
             [
              0.1111111111111111,
              "#46039f"
             ],
             [
              0.2222222222222222,
              "#7201a8"
             ],
             [
              0.3333333333333333,
              "#9c179e"
             ],
             [
              0.4444444444444444,
              "#bd3786"
             ],
             [
              0.5555555555555556,
              "#d8576b"
             ],
             [
              0.6666666666666666,
              "#ed7953"
             ],
             [
              0.7777777777777778,
              "#fb9f3a"
             ],
             [
              0.8888888888888888,
              "#fdca26"
             ],
             [
              1,
              "#f0f921"
             ]
            ],
            "type": "histogram2dcontour"
           }
          ],
          "mesh3d": [
           {
            "colorbar": {
             "outlinewidth": 0,
             "ticks": ""
            },
            "type": "mesh3d"
           }
          ],
          "parcoords": [
           {
            "line": {
             "colorbar": {
              "outlinewidth": 0,
              "ticks": ""
             }
            },
            "type": "parcoords"
           }
          ],
          "pie": [
           {
            "automargin": true,
            "type": "pie"
           }
          ],
          "scatter": [
           {
            "marker": {
             "colorbar": {
              "outlinewidth": 0,
              "ticks": ""
             }
            },
            "type": "scatter"
           }
          ],
          "scatter3d": [
           {
            "line": {
             "colorbar": {
              "outlinewidth": 0,
              "ticks": ""
             }
            },
            "marker": {
             "colorbar": {
              "outlinewidth": 0,
              "ticks": ""
             }
            },
            "type": "scatter3d"
           }
          ],
          "scattercarpet": [
           {
            "marker": {
             "colorbar": {
              "outlinewidth": 0,
              "ticks": ""
             }
            },
            "type": "scattercarpet"
           }
          ],
          "scattergeo": [
           {
            "marker": {
             "colorbar": {
              "outlinewidth": 0,
              "ticks": ""
             }
            },
            "type": "scattergeo"
           }
          ],
          "scattergl": [
           {
            "marker": {
             "colorbar": {
              "outlinewidth": 0,
              "ticks": ""
             }
            },
            "type": "scattergl"
           }
          ],
          "scattermapbox": [
           {
            "marker": {
             "colorbar": {
              "outlinewidth": 0,
              "ticks": ""
             }
            },
            "type": "scattermapbox"
           }
          ],
          "scatterpolar": [
           {
            "marker": {
             "colorbar": {
              "outlinewidth": 0,
              "ticks": ""
             }
            },
            "type": "scatterpolar"
           }
          ],
          "scatterpolargl": [
           {
            "marker": {
             "colorbar": {
              "outlinewidth": 0,
              "ticks": ""
             }
            },
            "type": "scatterpolargl"
           }
          ],
          "scatterternary": [
           {
            "marker": {
             "colorbar": {
              "outlinewidth": 0,
              "ticks": ""
             }
            },
            "type": "scatterternary"
           }
          ],
          "surface": [
           {
            "colorbar": {
             "outlinewidth": 0,
             "ticks": ""
            },
            "colorscale": [
             [
              0,
              "#0d0887"
             ],
             [
              0.1111111111111111,
              "#46039f"
             ],
             [
              0.2222222222222222,
              "#7201a8"
             ],
             [
              0.3333333333333333,
              "#9c179e"
             ],
             [
              0.4444444444444444,
              "#bd3786"
             ],
             [
              0.5555555555555556,
              "#d8576b"
             ],
             [
              0.6666666666666666,
              "#ed7953"
             ],
             [
              0.7777777777777778,
              "#fb9f3a"
             ],
             [
              0.8888888888888888,
              "#fdca26"
             ],
             [
              1,
              "#f0f921"
             ]
            ],
            "type": "surface"
           }
          ],
          "table": [
           {
            "cells": {
             "fill": {
              "color": "#EBF0F8"
             },
             "line": {
              "color": "white"
             }
            },
            "header": {
             "fill": {
              "color": "#C8D4E3"
             },
             "line": {
              "color": "white"
             }
            },
            "type": "table"
           }
          ]
         },
         "layout": {
          "annotationdefaults": {
           "arrowcolor": "#2a3f5f",
           "arrowhead": 0,
           "arrowwidth": 1
          },
          "autotypenumbers": "strict",
          "coloraxis": {
           "colorbar": {
            "outlinewidth": 0,
            "ticks": ""
           }
          },
          "colorscale": {
           "diverging": [
            [
             0,
             "#8e0152"
            ],
            [
             0.1,
             "#c51b7d"
            ],
            [
             0.2,
             "#de77ae"
            ],
            [
             0.3,
             "#f1b6da"
            ],
            [
             0.4,
             "#fde0ef"
            ],
            [
             0.5,
             "#f7f7f7"
            ],
            [
             0.6,
             "#e6f5d0"
            ],
            [
             0.7,
             "#b8e186"
            ],
            [
             0.8,
             "#7fbc41"
            ],
            [
             0.9,
             "#4d9221"
            ],
            [
             1,
             "#276419"
            ]
           ],
           "sequential": [
            [
             0,
             "#0d0887"
            ],
            [
             0.1111111111111111,
             "#46039f"
            ],
            [
             0.2222222222222222,
             "#7201a8"
            ],
            [
             0.3333333333333333,
             "#9c179e"
            ],
            [
             0.4444444444444444,
             "#bd3786"
            ],
            [
             0.5555555555555556,
             "#d8576b"
            ],
            [
             0.6666666666666666,
             "#ed7953"
            ],
            [
             0.7777777777777778,
             "#fb9f3a"
            ],
            [
             0.8888888888888888,
             "#fdca26"
            ],
            [
             1,
             "#f0f921"
            ]
           ],
           "sequentialminus": [
            [
             0,
             "#0d0887"
            ],
            [
             0.1111111111111111,
             "#46039f"
            ],
            [
             0.2222222222222222,
             "#7201a8"
            ],
            [
             0.3333333333333333,
             "#9c179e"
            ],
            [
             0.4444444444444444,
             "#bd3786"
            ],
            [
             0.5555555555555556,
             "#d8576b"
            ],
            [
             0.6666666666666666,
             "#ed7953"
            ],
            [
             0.7777777777777778,
             "#fb9f3a"
            ],
            [
             0.8888888888888888,
             "#fdca26"
            ],
            [
             1,
             "#f0f921"
            ]
           ]
          },
          "colorway": [
           "#636efa",
           "#EF553B",
           "#00cc96",
           "#ab63fa",
           "#FFA15A",
           "#19d3f3",
           "#FF6692",
           "#B6E880",
           "#FF97FF",
           "#FECB52"
          ],
          "font": {
           "color": "#2a3f5f"
          },
          "geo": {
           "bgcolor": "white",
           "lakecolor": "white",
           "landcolor": "#E5ECF6",
           "showlakes": true,
           "showland": true,
           "subunitcolor": "white"
          },
          "hoverlabel": {
           "align": "left"
          },
          "hovermode": "closest",
          "mapbox": {
           "style": "light"
          },
          "paper_bgcolor": "white",
          "plot_bgcolor": "#E5ECF6",
          "polar": {
           "angularaxis": {
            "gridcolor": "white",
            "linecolor": "white",
            "ticks": ""
           },
           "bgcolor": "#E5ECF6",
           "radialaxis": {
            "gridcolor": "white",
            "linecolor": "white",
            "ticks": ""
           }
          },
          "scene": {
           "xaxis": {
            "backgroundcolor": "#E5ECF6",
            "gridcolor": "white",
            "gridwidth": 2,
            "linecolor": "white",
            "showbackground": true,
            "ticks": "",
            "zerolinecolor": "white"
           },
           "yaxis": {
            "backgroundcolor": "#E5ECF6",
            "gridcolor": "white",
            "gridwidth": 2,
            "linecolor": "white",
            "showbackground": true,
            "ticks": "",
            "zerolinecolor": "white"
           },
           "zaxis": {
            "backgroundcolor": "#E5ECF6",
            "gridcolor": "white",
            "gridwidth": 2,
            "linecolor": "white",
            "showbackground": true,
            "ticks": "",
            "zerolinecolor": "white"
           }
          },
          "shapedefaults": {
           "line": {
            "color": "#2a3f5f"
           }
          },
          "ternary": {
           "aaxis": {
            "gridcolor": "white",
            "linecolor": "white",
            "ticks": ""
           },
           "baxis": {
            "gridcolor": "white",
            "linecolor": "white",
            "ticks": ""
           },
           "bgcolor": "#E5ECF6",
           "caxis": {
            "gridcolor": "white",
            "linecolor": "white",
            "ticks": ""
           }
          },
          "title": {
           "x": 0.05
          },
          "xaxis": {
           "automargin": true,
           "gridcolor": "white",
           "linecolor": "white",
           "ticks": "",
           "title": {
            "standoff": 15
           },
           "zerolinecolor": "white",
           "zerolinewidth": 2
          },
          "yaxis": {
           "automargin": true,
           "gridcolor": "white",
           "linecolor": "white",
           "ticks": "",
           "title": {
            "standoff": 15
           },
           "zerolinecolor": "white",
           "zerolinewidth": 2
          }
         }
        },
        "title": {
         "text": "Temperature"
        },
        "width": 800
       }
      }
     },
     "metadata": {},
     "output_type": "display_data"
    },
    {
     "data": {
      "application/vnd.plotly.v1+json": {
       "config": {
        "plotlyServerURL": "https://plot.ly"
       },
       "data": [
        {
         "type": "histogram",
         "x": [
          0.563,
          0.604,
          0.637,
          0.658,
          0.662,
          0.613,
          0.632,
          0.645,
          0.659,
          0.599,
          0.546,
          0.549,
          0.522,
          0.533,
          0.539,
          0.602,
          0.623,
          0.6,
          0.596,
          0.628,
          0.653,
          0.605,
          0.617,
          0.575,
          0.621,
          0.588,
          0.547,
          0.551,
          0.601,
          0.625,
          0.678,
          0.635,
          0.635,
          0.685,
          0.64,
          0.71,
          0.697,
          0.762,
          0.79,
          0.767,
          0.71,
          0.812,
          0.855,
          0.8,
          0.778,
          0.726,
          0.693,
          0.608,
          0.49,
          0.473,
          0.483,
          0.438,
          0.434,
          0.414,
          0.456,
          0.453,
          0.49,
          0.535,
          0.526,
          0.555,
          0.555,
          0.556,
          0.511,
          0.606,
          0.551,
          0.534,
          0.51,
          0.469,
          0.475,
          0.489,
          0.515,
          0.479,
          0.442,
          0.385,
          0.38,
          0.402,
          0.414,
          0.384,
          0.426,
          0.432,
          0.378,
          0.374,
          0.39,
          0.379,
          0.395,
          0.413,
          0.397,
          0.401,
          0.337,
          0.284,
          0.287,
          0.317,
          0.296,
          0.286,
          0.268,
          0.248,
          0.281,
          0.277,
          0.282,
          0.298,
          0.298,
          0.29,
          0.295,
          0.278,
          0.277,
          0.267,
          0.239,
          0.242,
          0.25,
          0.242,
          0.24,
          0.221,
          0.206,
          0.202,
          0.2,
          0.177,
          0.167,
          0.153,
          0.14,
          0.135,
          0.122,
          0.113,
          0.101,
          0.1,
          0.092,
          0.103,
          0.095,
          0.093,
          0.09,
          0.087,
          0.081,
          0.078,
          0.081,
          0.075,
          0.067,
          0.058,
          0.058,
          0.052,
          0.049,
          0.04,
          0.041,
          0.035,
          0.03,
          0.029,
          0.03,
          0.028,
          0.024,
          0.026,
          0.022,
          0.019,
          0.017,
          0.016,
          0.015,
          0.014,
          0.012,
          0.01,
          0.009,
          0.008,
          0.008,
          0.009,
          0.009,
          0.008,
          0.007,
          0.006,
          0.005,
          0.005,
          0.005,
          0.004,
          0.003,
          0.003,
          0.002,
          0.002,
          0.002,
          0.002,
          0.002,
          0.002,
          0.002,
          0.002,
          0.001,
          0.001,
          0.001,
          0.001,
          0.001,
          0.001,
          0.001,
          0,
          0,
          0,
          0,
          0,
          0,
          0,
          0,
          0,
          0,
          0,
          0,
          0,
          0,
          0,
          0,
          0,
          0,
          0,
          0,
          0,
          0,
          0,
          0,
          0,
          0,
          0,
          0,
          0,
          0,
          0,
          0,
          0,
          0,
          0,
          0,
          0,
          0,
          0,
          0,
          0,
          0,
          0,
          0,
          0,
          0,
          0,
          0,
          0,
          0,
          0,
          0,
          0,
          0,
          0.001,
          0.001,
          0.001,
          0.001,
          0.001,
          0.001,
          0.002,
          0.002,
          0.002,
          0.002,
          0.002,
          0.002,
          0.003,
          0.003,
          0.003,
          0.003,
          0.004,
          0.005,
          0.006,
          0.007,
          0.007,
          0.008,
          0.009,
          0.01,
          0.011,
          0.013,
          0.015,
          0.014,
          0.016,
          0.017,
          0.019,
          0.02,
          0.02,
          0.02,
          0.025,
          0.026,
          0.025,
          0.029,
          0.026,
          0.029,
          0.027,
          0.029,
          0.03,
          0.029,
          0.031,
          0.03,
          0.034,
          0.033,
          0.046,
          0.045,
          0.049,
          0.057,
          0.062,
          0.064,
          0.061,
          0.073,
          0.079,
          0.081,
          0.081,
          0.083,
          0.106,
          0.107,
          0.117,
          0.139,
          0.15,
          0.144,
          0.142,
          0.15,
          0.159,
          0.174,
          0.163,
          0.173,
          0.174,
          0.172,
          0.155,
          0.173,
          0.185,
          0.203,
          0.178,
          0.2,
          0.204,
          0.215,
          0.209,
          0.223,
          0.243,
          0.228,
          0.258,
          0.247,
          0.303,
          0.292,
          0.31,
          0.302,
          0.334,
          0.375,
          0.402,
          0.427,
          0.421,
          0.456,
          0.486,
          0.492,
          0.469,
          0.511,
          0.489,
          0.452,
          0.446,
          0.448,
          0.44,
          0.43,
          0.419,
          0.451,
          0.499,
          0.459,
          0.522,
          0.554,
          0.55,
          0.577,
          0.596,
          0.587,
          0.623,
          0.58,
          0.578,
          0.588,
          0.567,
          0.504,
          0.503,
          0.54,
          0.497,
          0.48,
          0.371,
          0.358,
          0.314,
          0.377,
          0.414,
          0.431,
          0.56,
          0.543,
          0.565,
          0.517,
          0.676,
          0.653,
          0.645,
          0.627,
          0.681,
          0.758,
          0.701,
          0.689,
          0.734,
          0.855,
          0.784,
          0.84,
          0.9,
          0.836,
          0.737,
          0.624,
          0.6,
          0.542,
          0.469,
          0.448,
          0.488,
          0.517,
          0.461,
          0.451,
          0.495,
          0.519,
          0.513,
          0.566,
          0.569,
          0.564,
          0.464,
          0.408,
          0.472,
          0.448,
          0.428,
          0.458,
          0.482,
          0.467,
          0.542,
          0.539,
          0.564,
          0.583,
          0.585,
          0.632,
          0.613,
          0.585,
          0.541,
          0.484,
          0.49,
          0.443,
          0.43,
          0.399,
          0.404,
          0.389,
          0.418,
          0.412,
          0.432,
          0.441,
          0.445,
          0.439,
          0.458,
          0.484,
          0.464,
          0.458,
          0.417,
          0.426,
          0.408,
          0.441,
          0.434,
          0.438,
          0.394,
          0.37,
          0.406,
          0.385,
          0.411,
          0.432,
          0.415,
          0.398,
          0.378,
          0.371,
          0.381,
          0.363,
          0.296,
          0.291,
          0.24,
          0.209,
          0.2,
          0.189,
          0.141,
          0.146,
          0.155,
          0.132,
          0.145,
          0.162,
          0.156,
          0.169,
          0.175,
          0.16,
          0.169,
          0.165,
          0.152,
          0.168,
          0.151,
          0.137,
          0.13,
          0.112,
          0.098,
          0.094,
          0.098,
          0.097,
          0.096,
          0.083,
          0.082,
          0.084,
          0.088,
          0.095,
          0.097,
          0.096,
          0.085,
          0.077,
          0.07,
          0.073,
          0.073,
          0.063,
          0.055,
          0.041,
          0.039,
          0.033,
          0.027,
          0.026,
          0.03,
          0.027,
          0.025,
          0.025,
          0.025,
          0.027,
          0.024,
          0.024,
          0.026,
          0.023,
          0.019,
          0.018,
          0.015,
          0.014,
          0.013,
          0.011,
          0.01,
          0.01,
          0.009,
          0.009,
          0.008,
          0.008,
          0.007,
          0.007,
          0.006,
          0.005,
          0.004,
          0.004,
          0.003,
          0.003,
          0.002,
          0.002,
          0.002,
          0.001,
          0.001,
          0.001,
          0.001,
          0.001,
          0.001,
          0.001,
          0.001,
          0,
          0,
          0,
          0,
          0,
          0,
          0,
          0,
          0,
          0,
          0,
          0,
          0,
          0,
          0,
          0,
          0,
          0,
          0,
          0,
          0,
          0,
          0,
          0,
          0,
          0,
          0,
          0,
          0,
          0,
          0,
          0,
          0,
          0,
          0,
          0,
          0,
          0,
          0,
          0,
          0,
          0,
          0,
          0,
          0,
          0,
          0,
          0,
          0,
          0,
          0,
          0,
          0,
          0,
          0,
          0.001,
          0.001,
          0.001,
          0.001,
          0.001,
          0.001,
          0.001,
          0.001,
          0.002,
          0.002,
          0.002,
          0.002,
          0.002,
          0.002,
          0.003,
          0.003,
          0.003,
          0.004,
          0.004,
          0.005,
          0.006,
          0.006,
          0.007,
          0.009,
          0.01,
          0.01,
          0.012,
          0.012,
          0.014,
          0.017,
          0.017,
          0.02,
          0.023,
          0.024,
          0.026,
          0.027,
          0.025,
          0.027,
          0.024,
          0.029,
          0.029,
          0.028,
          0.028,
          0.029,
          0.031,
          0.035,
          0.038,
          0.043,
          0.052,
          0.048,
          0.059,
          0.065,
          0.072,
          0.077,
          0.083,
          0.084,
          0.086,
          0.093,
          0.093,
          0.096,
          0.095,
          0.104,
          0.105,
          0.107,
          0.116,
          0.121,
          0.153,
          0.161,
          0.159,
          0.176,
          0.181,
          0.189,
          0.202,
          0.206,
          0.186,
          0.189,
          0.161,
          0.155,
          0.186,
          0.202,
          0.209,
          0.187,
          0.19,
          0.213,
          0.228,
          0.236,
          0.255,
          0.26,
          0.268,
          0.249,
          0.256,
          0.268,
          0.261,
          0.26,
          0.271,
          0.311,
          0.311,
          0.338,
          0.351,
          0.334,
          0.298,
          0.292,
          0.334,
          0.314,
          0.385,
          0.342,
          0.362,
          0.4,
          0.433,
          0.525,
          0.607,
          0.682,
          0.677,
          0.723,
          0.653,
          0.657,
          0.662,
          0.625,
          0.566,
          0.536,
          0.536,
          0.516,
          0.549,
          0.499,
          0.516,
          0.525,
          0.474,
          0.482,
          0.497,
          0.529,
          0.524,
          0.492,
          0.509,
          0.593,
          0.624,
          0.646,
          0.682,
          0.677,
          0.723,
          0.741,
          0.778,
          0.801,
          0.7,
          0.665,
          0.584,
          0.607,
          0.638,
          0.637,
          0.542,
          0.493,
          0.419,
          0.394,
          0.331,
          0.325,
          0.456,
          0.505,
          0.494,
          0.489,
          0.565,
          0.509,
          0.539,
          0.609,
          0.758,
          0.753,
          0.679,
          0.585,
          0.57,
          0.581,
          0.575,
          0.641,
          0.598,
          0.621,
          0.565,
          0.564,
          0.541,
          0.484,
          0.539,
          0.568,
          0.542
         ]
        }
       ],
       "layout": {
        "height": 400,
        "template": {
         "data": {
          "bar": [
           {
            "error_x": {
             "color": "#2a3f5f"
            },
            "error_y": {
             "color": "#2a3f5f"
            },
            "marker": {
             "line": {
              "color": "#E5ECF6",
              "width": 0.5
             },
             "pattern": {
              "fillmode": "overlay",
              "size": 10,
              "solidity": 0.2
             }
            },
            "type": "bar"
           }
          ],
          "barpolar": [
           {
            "marker": {
             "line": {
              "color": "#E5ECF6",
              "width": 0.5
             },
             "pattern": {
              "fillmode": "overlay",
              "size": 10,
              "solidity": 0.2
             }
            },
            "type": "barpolar"
           }
          ],
          "carpet": [
           {
            "aaxis": {
             "endlinecolor": "#2a3f5f",
             "gridcolor": "white",
             "linecolor": "white",
             "minorgridcolor": "white",
             "startlinecolor": "#2a3f5f"
            },
            "baxis": {
             "endlinecolor": "#2a3f5f",
             "gridcolor": "white",
             "linecolor": "white",
             "minorgridcolor": "white",
             "startlinecolor": "#2a3f5f"
            },
            "type": "carpet"
           }
          ],
          "choropleth": [
           {
            "colorbar": {
             "outlinewidth": 0,
             "ticks": ""
            },
            "type": "choropleth"
           }
          ],
          "contour": [
           {
            "colorbar": {
             "outlinewidth": 0,
             "ticks": ""
            },
            "colorscale": [
             [
              0,
              "#0d0887"
             ],
             [
              0.1111111111111111,
              "#46039f"
             ],
             [
              0.2222222222222222,
              "#7201a8"
             ],
             [
              0.3333333333333333,
              "#9c179e"
             ],
             [
              0.4444444444444444,
              "#bd3786"
             ],
             [
              0.5555555555555556,
              "#d8576b"
             ],
             [
              0.6666666666666666,
              "#ed7953"
             ],
             [
              0.7777777777777778,
              "#fb9f3a"
             ],
             [
              0.8888888888888888,
              "#fdca26"
             ],
             [
              1,
              "#f0f921"
             ]
            ],
            "type": "contour"
           }
          ],
          "contourcarpet": [
           {
            "colorbar": {
             "outlinewidth": 0,
             "ticks": ""
            },
            "type": "contourcarpet"
           }
          ],
          "heatmap": [
           {
            "colorbar": {
             "outlinewidth": 0,
             "ticks": ""
            },
            "colorscale": [
             [
              0,
              "#0d0887"
             ],
             [
              0.1111111111111111,
              "#46039f"
             ],
             [
              0.2222222222222222,
              "#7201a8"
             ],
             [
              0.3333333333333333,
              "#9c179e"
             ],
             [
              0.4444444444444444,
              "#bd3786"
             ],
             [
              0.5555555555555556,
              "#d8576b"
             ],
             [
              0.6666666666666666,
              "#ed7953"
             ],
             [
              0.7777777777777778,
              "#fb9f3a"
             ],
             [
              0.8888888888888888,
              "#fdca26"
             ],
             [
              1,
              "#f0f921"
             ]
            ],
            "type": "heatmap"
           }
          ],
          "heatmapgl": [
           {
            "colorbar": {
             "outlinewidth": 0,
             "ticks": ""
            },
            "colorscale": [
             [
              0,
              "#0d0887"
             ],
             [
              0.1111111111111111,
              "#46039f"
             ],
             [
              0.2222222222222222,
              "#7201a8"
             ],
             [
              0.3333333333333333,
              "#9c179e"
             ],
             [
              0.4444444444444444,
              "#bd3786"
             ],
             [
              0.5555555555555556,
              "#d8576b"
             ],
             [
              0.6666666666666666,
              "#ed7953"
             ],
             [
              0.7777777777777778,
              "#fb9f3a"
             ],
             [
              0.8888888888888888,
              "#fdca26"
             ],
             [
              1,
              "#f0f921"
             ]
            ],
            "type": "heatmapgl"
           }
          ],
          "histogram": [
           {
            "marker": {
             "pattern": {
              "fillmode": "overlay",
              "size": 10,
              "solidity": 0.2
             }
            },
            "type": "histogram"
           }
          ],
          "histogram2d": [
           {
            "colorbar": {
             "outlinewidth": 0,
             "ticks": ""
            },
            "colorscale": [
             [
              0,
              "#0d0887"
             ],
             [
              0.1111111111111111,
              "#46039f"
             ],
             [
              0.2222222222222222,
              "#7201a8"
             ],
             [
              0.3333333333333333,
              "#9c179e"
             ],
             [
              0.4444444444444444,
              "#bd3786"
             ],
             [
              0.5555555555555556,
              "#d8576b"
             ],
             [
              0.6666666666666666,
              "#ed7953"
             ],
             [
              0.7777777777777778,
              "#fb9f3a"
             ],
             [
              0.8888888888888888,
              "#fdca26"
             ],
             [
              1,
              "#f0f921"
             ]
            ],
            "type": "histogram2d"
           }
          ],
          "histogram2dcontour": [
           {
            "colorbar": {
             "outlinewidth": 0,
             "ticks": ""
            },
            "colorscale": [
             [
              0,
              "#0d0887"
             ],
             [
              0.1111111111111111,
              "#46039f"
             ],
             [
              0.2222222222222222,
              "#7201a8"
             ],
             [
              0.3333333333333333,
              "#9c179e"
             ],
             [
              0.4444444444444444,
              "#bd3786"
             ],
             [
              0.5555555555555556,
              "#d8576b"
             ],
             [
              0.6666666666666666,
              "#ed7953"
             ],
             [
              0.7777777777777778,
              "#fb9f3a"
             ],
             [
              0.8888888888888888,
              "#fdca26"
             ],
             [
              1,
              "#f0f921"
             ]
            ],
            "type": "histogram2dcontour"
           }
          ],
          "mesh3d": [
           {
            "colorbar": {
             "outlinewidth": 0,
             "ticks": ""
            },
            "type": "mesh3d"
           }
          ],
          "parcoords": [
           {
            "line": {
             "colorbar": {
              "outlinewidth": 0,
              "ticks": ""
             }
            },
            "type": "parcoords"
           }
          ],
          "pie": [
           {
            "automargin": true,
            "type": "pie"
           }
          ],
          "scatter": [
           {
            "marker": {
             "colorbar": {
              "outlinewidth": 0,
              "ticks": ""
             }
            },
            "type": "scatter"
           }
          ],
          "scatter3d": [
           {
            "line": {
             "colorbar": {
              "outlinewidth": 0,
              "ticks": ""
             }
            },
            "marker": {
             "colorbar": {
              "outlinewidth": 0,
              "ticks": ""
             }
            },
            "type": "scatter3d"
           }
          ],
          "scattercarpet": [
           {
            "marker": {
             "colorbar": {
              "outlinewidth": 0,
              "ticks": ""
             }
            },
            "type": "scattercarpet"
           }
          ],
          "scattergeo": [
           {
            "marker": {
             "colorbar": {
              "outlinewidth": 0,
              "ticks": ""
             }
            },
            "type": "scattergeo"
           }
          ],
          "scattergl": [
           {
            "marker": {
             "colorbar": {
              "outlinewidth": 0,
              "ticks": ""
             }
            },
            "type": "scattergl"
           }
          ],
          "scattermapbox": [
           {
            "marker": {
             "colorbar": {
              "outlinewidth": 0,
              "ticks": ""
             }
            },
            "type": "scattermapbox"
           }
          ],
          "scatterpolar": [
           {
            "marker": {
             "colorbar": {
              "outlinewidth": 0,
              "ticks": ""
             }
            },
            "type": "scatterpolar"
           }
          ],
          "scatterpolargl": [
           {
            "marker": {
             "colorbar": {
              "outlinewidth": 0,
              "ticks": ""
             }
            },
            "type": "scatterpolargl"
           }
          ],
          "scatterternary": [
           {
            "marker": {
             "colorbar": {
              "outlinewidth": 0,
              "ticks": ""
             }
            },
            "type": "scatterternary"
           }
          ],
          "surface": [
           {
            "colorbar": {
             "outlinewidth": 0,
             "ticks": ""
            },
            "colorscale": [
             [
              0,
              "#0d0887"
             ],
             [
              0.1111111111111111,
              "#46039f"
             ],
             [
              0.2222222222222222,
              "#7201a8"
             ],
             [
              0.3333333333333333,
              "#9c179e"
             ],
             [
              0.4444444444444444,
              "#bd3786"
             ],
             [
              0.5555555555555556,
              "#d8576b"
             ],
             [
              0.6666666666666666,
              "#ed7953"
             ],
             [
              0.7777777777777778,
              "#fb9f3a"
             ],
             [
              0.8888888888888888,
              "#fdca26"
             ],
             [
              1,
              "#f0f921"
             ]
            ],
            "type": "surface"
           }
          ],
          "table": [
           {
            "cells": {
             "fill": {
              "color": "#EBF0F8"
             },
             "line": {
              "color": "white"
             }
            },
            "header": {
             "fill": {
              "color": "#C8D4E3"
             },
             "line": {
              "color": "white"
             }
            },
            "type": "table"
           }
          ]
         },
         "layout": {
          "annotationdefaults": {
           "arrowcolor": "#2a3f5f",
           "arrowhead": 0,
           "arrowwidth": 1
          },
          "autotypenumbers": "strict",
          "coloraxis": {
           "colorbar": {
            "outlinewidth": 0,
            "ticks": ""
           }
          },
          "colorscale": {
           "diverging": [
            [
             0,
             "#8e0152"
            ],
            [
             0.1,
             "#c51b7d"
            ],
            [
             0.2,
             "#de77ae"
            ],
            [
             0.3,
             "#f1b6da"
            ],
            [
             0.4,
             "#fde0ef"
            ],
            [
             0.5,
             "#f7f7f7"
            ],
            [
             0.6,
             "#e6f5d0"
            ],
            [
             0.7,
             "#b8e186"
            ],
            [
             0.8,
             "#7fbc41"
            ],
            [
             0.9,
             "#4d9221"
            ],
            [
             1,
             "#276419"
            ]
           ],
           "sequential": [
            [
             0,
             "#0d0887"
            ],
            [
             0.1111111111111111,
             "#46039f"
            ],
            [
             0.2222222222222222,
             "#7201a8"
            ],
            [
             0.3333333333333333,
             "#9c179e"
            ],
            [
             0.4444444444444444,
             "#bd3786"
            ],
            [
             0.5555555555555556,
             "#d8576b"
            ],
            [
             0.6666666666666666,
             "#ed7953"
            ],
            [
             0.7777777777777778,
             "#fb9f3a"
            ],
            [
             0.8888888888888888,
             "#fdca26"
            ],
            [
             1,
             "#f0f921"
            ]
           ],
           "sequentialminus": [
            [
             0,
             "#0d0887"
            ],
            [
             0.1111111111111111,
             "#46039f"
            ],
            [
             0.2222222222222222,
             "#7201a8"
            ],
            [
             0.3333333333333333,
             "#9c179e"
            ],
            [
             0.4444444444444444,
             "#bd3786"
            ],
            [
             0.5555555555555556,
             "#d8576b"
            ],
            [
             0.6666666666666666,
             "#ed7953"
            ],
            [
             0.7777777777777778,
             "#fb9f3a"
            ],
            [
             0.8888888888888888,
             "#fdca26"
            ],
            [
             1,
             "#f0f921"
            ]
           ]
          },
          "colorway": [
           "#636efa",
           "#EF553B",
           "#00cc96",
           "#ab63fa",
           "#FFA15A",
           "#19d3f3",
           "#FF6692",
           "#B6E880",
           "#FF97FF",
           "#FECB52"
          ],
          "font": {
           "color": "#2a3f5f"
          },
          "geo": {
           "bgcolor": "white",
           "lakecolor": "white",
           "landcolor": "#E5ECF6",
           "showlakes": true,
           "showland": true,
           "subunitcolor": "white"
          },
          "hoverlabel": {
           "align": "left"
          },
          "hovermode": "closest",
          "mapbox": {
           "style": "light"
          },
          "paper_bgcolor": "white",
          "plot_bgcolor": "#E5ECF6",
          "polar": {
           "angularaxis": {
            "gridcolor": "white",
            "linecolor": "white",
            "ticks": ""
           },
           "bgcolor": "#E5ECF6",
           "radialaxis": {
            "gridcolor": "white",
            "linecolor": "white",
            "ticks": ""
           }
          },
          "scene": {
           "xaxis": {
            "backgroundcolor": "#E5ECF6",
            "gridcolor": "white",
            "gridwidth": 2,
            "linecolor": "white",
            "showbackground": true,
            "ticks": "",
            "zerolinecolor": "white"
           },
           "yaxis": {
            "backgroundcolor": "#E5ECF6",
            "gridcolor": "white",
            "gridwidth": 2,
            "linecolor": "white",
            "showbackground": true,
            "ticks": "",
            "zerolinecolor": "white"
           },
           "zaxis": {
            "backgroundcolor": "#E5ECF6",
            "gridcolor": "white",
            "gridwidth": 2,
            "linecolor": "white",
            "showbackground": true,
            "ticks": "",
            "zerolinecolor": "white"
           }
          },
          "shapedefaults": {
           "line": {
            "color": "#2a3f5f"
           }
          },
          "ternary": {
           "aaxis": {
            "gridcolor": "white",
            "linecolor": "white",
            "ticks": ""
           },
           "baxis": {
            "gridcolor": "white",
            "linecolor": "white",
            "ticks": ""
           },
           "bgcolor": "#E5ECF6",
           "caxis": {
            "gridcolor": "white",
            "linecolor": "white",
            "ticks": ""
           }
          },
          "title": {
           "x": 0.05
          },
          "xaxis": {
           "automargin": true,
           "gridcolor": "white",
           "linecolor": "white",
           "ticks": "",
           "title": {
            "standoff": 15
           },
           "zerolinecolor": "white",
           "zerolinewidth": 2
          },
          "yaxis": {
           "automargin": true,
           "gridcolor": "white",
           "linecolor": "white",
           "ticks": "",
           "title": {
            "standoff": 15
           },
           "zerolinecolor": "white",
           "zerolinewidth": 2
          }
         }
        },
        "title": {
         "text": "Humidity"
        },
        "width": 800
       }
      }
     },
     "metadata": {},
     "output_type": "display_data"
    },
    {
     "data": {
      "application/vnd.plotly.v1+json": {
       "config": {
        "plotlyServerURL": "https://plot.ly"
       },
       "data": [
        {
         "type": "histogram",
         "x": [
          "1",
          "1",
          "1",
          "1",
          "1",
          "1",
          "0",
          "?",
          "1",
          "0",
          "0",
          "0",
          "0",
          "0",
          "1",
          "1",
          "1",
          "1",
          "1",
          "1",
          "1",
          "1",
          "1",
          "1",
          "0",
          "0",
          "1",
          "0",
          "0",
          "0",
          "0",
          "0",
          "0",
          "0",
          "1",
          "1",
          "1",
          "1",
          "1",
          "1",
          "1",
          "1",
          "1",
          "1",
          "0",
          "1",
          "1",
          "1",
          "2",
          "2",
          "1",
          "1",
          "2",
          "2",
          "2",
          "2",
          "2",
          "2",
          "2",
          "1",
          "2",
          "2",
          "2",
          "2",
          "2",
          "2",
          "2",
          "2",
          "1",
          "1",
          "1",
          "2",
          "1",
          "1",
          "2",
          "2",
          "2",
          "1",
          "2",
          "2",
          "2",
          "2",
          "3",
          "3",
          "2",
          "3",
          "2",
          "3",
          "3",
          "3",
          "3",
          "2",
          "2",
          "2",
          "2",
          "1",
          "1",
          "2",
          "2",
          "?",
          "?",
          "1",
          "1",
          "?",
          "?",
          "1",
          "1",
          "1",
          "1",
          "2",
          "2",
          "2",
          "2",
          "2",
          "2",
          "2",
          "3",
          "2",
          "2",
          "2",
          "2",
          "1",
          "1",
          "2",
          "1",
          "2",
          "1",
          "2",
          "2",
          "2",
          "2",
          "2",
          "2",
          "2",
          "2",
          "2",
          "3",
          "3",
          "2",
          "3",
          "3",
          "3",
          "3",
          "3",
          "3",
          "2",
          "2",
          "2",
          "2",
          "2",
          "1",
          "2",
          "2",
          "2",
          "2",
          "2",
          "2",
          "2",
          "2",
          "2",
          "2",
          "2",
          "3",
          "3",
          "3",
          "2",
          "?",
          "3",
          "2",
          "2",
          "2",
          "2",
          "2",
          "2",
          "2",
          "2",
          "2",
          "2",
          "2",
          "3",
          "3",
          "3",
          "3",
          "2",
          "2",
          "2",
          "1",
          "2",
          "2",
          "2",
          "2",
          "2",
          "2",
          "3",
          "3",
          "3",
          "3",
          "3",
          "3",
          "3",
          "3",
          "3",
          "3",
          "2",
          "2",
          "2",
          "3",
          "3",
          "2",
          "2",
          "2",
          "2",
          "1",
          "1",
          "1",
          "0",
          "1",
          "1",
          "1",
          "1",
          "1",
          "1",
          "1",
          "1",
          "?",
          "2",
          "2",
          "2",
          "2",
          "?",
          "2",
          "2",
          "2",
          "2",
          "2",
          "2",
          "?",
          "1",
          "1",
          "1",
          "2",
          "1",
          "1",
          "1",
          "1",
          "1",
          "2",
          "2",
          "2",
          "2",
          "1",
          "2",
          "1",
          "1",
          "1",
          "1",
          "0",
          "1",
          "1",
          "1",
          "2",
          "2",
          "2",
          "2",
          "2",
          "2",
          "?",
          "2",
          "2",
          "2",
          "2",
          "2",
          "2",
          "2",
          "1",
          "1",
          "1",
          "1",
          "?",
          "1",
          "1",
          "1",
          "1",
          "1",
          "2",
          "2",
          "2",
          "2",
          "2",
          "2",
          "3",
          "2",
          "2",
          "2",
          "2",
          "3",
          "2",
          "2",
          "2",
          "2",
          "2",
          "2",
          "2",
          "1",
          "1",
          "1",
          "1",
          "1",
          "2",
          "2",
          "1",
          "1",
          "1",
          "2",
          "2",
          "2",
          "1",
          "1",
          "1",
          "1",
          "1",
          "1",
          "1",
          "1",
          "1",
          "1",
          "1",
          "1",
          "1",
          "1",
          "1",
          "2",
          "2",
          "2",
          "2",
          "2",
          "2",
          "2",
          "2",
          "2",
          "1",
          "1",
          "1",
          "1",
          "2",
          "?",
          "2",
          "?",
          "1",
          "1",
          "1",
          "2",
          "1",
          "1",
          "0",
          "0",
          "?",
          "1",
          "1",
          "0",
          "0",
          "0",
          "1",
          "1",
          "1",
          "1",
          "1",
          "1",
          "1",
          "2",
          "2",
          "2",
          "2",
          "2",
          "2",
          "2",
          "2",
          "1",
          "2",
          "?",
          "1",
          "1",
          "1",
          "1",
          "1",
          "1",
          "1",
          "1",
          "1",
          "1",
          "1",
          "1",
          "1",
          "?",
          "?",
          "2",
          "2",
          "2",
          "2",
          "3",
          "2",
          "1",
          "2",
          "2",
          "1",
          "1",
          "1",
          "1",
          "1",
          "1",
          "1",
          "1",
          "1",
          "1",
          "1",
          "1",
          "1",
          "1",
          "1",
          "1",
          "1",
          "1",
          "1",
          "2",
          "2",
          "3",
          "3",
          "2",
          "3",
          "2",
          "2",
          "2",
          "2",
          "2",
          "1",
          "1",
          "1",
          "0",
          "0",
          "?",
          "0",
          "0",
          "1",
          "0",
          "0",
          "0",
          "0",
          "1",
          "1",
          "1",
          "0",
          "0",
          "0",
          "0",
          "0",
          "1",
          "1",
          "0",
          "0",
          "1",
          "1",
          "1",
          "1",
          "2",
          "1",
          "1",
          "2",
          "3",
          "3",
          "3",
          "2",
          "2",
          "2",
          "2",
          "2",
          "2",
          "2",
          "1",
          "1",
          "1",
          "?",
          "1",
          "1",
          "2",
          "1",
          "1",
          "1",
          "1",
          "1",
          "1",
          "1",
          "1",
          "1",
          "1",
          "1",
          "?",
          "2",
          "2",
          "2",
          "2",
          "1",
          "2",
          "2",
          "2",
          "?",
          "2",
          "2",
          "2",
          "2",
          "3",
          "3",
          "3",
          "2",
          "2",
          "2",
          "2",
          "1",
          "1",
          "1",
          "?",
          "0",
          "0",
          "1",
          "1",
          "1",
          "1",
          "2",
          "2",
          "2",
          "2",
          "?",
          "2",
          "2",
          "2",
          "2",
          "1",
          "2",
          "1",
          "2",
          "1",
          "2",
          "2",
          "2",
          "2",
          "2",
          "2",
          "?",
          "2",
          "2",
          "2",
          "1",
          "1",
          "1",
          "1",
          "2",
          "2",
          "2",
          "2",
          "2",
          "2",
          "2",
          "3",
          "3",
          "3",
          "2",
          "3",
          "3",
          "3",
          "3",
          "3",
          "3",
          "2",
          "2",
          "2",
          "2",
          "?",
          "2",
          "2",
          "2",
          "2",
          "1",
          "2",
          "1",
          "?",
          "2",
          "2",
          "2",
          "2",
          "1",
          "1",
          "1",
          "2",
          "2",
          "2",
          "2",
          "2",
          "2",
          "?",
          "3",
          "2",
          "2",
          "2",
          "2",
          "2",
          "2",
          "2",
          "2",
          "1",
          "2",
          "2",
          "2",
          "3",
          "?",
          "2",
          "2",
          "?",
          "2",
          "2",
          "2",
          "2",
          "2",
          "?",
          "2",
          "?",
          "1",
          "2",
          "1",
          "2",
          "1",
          "2",
          "2",
          "?",
          "2",
          "2",
          "2",
          "2",
          "2",
          "2",
          "2",
          "2",
          "2",
          "2",
          "?",
          "2",
          "2",
          "2",
          "2",
          "2",
          "2",
          "2",
          "1",
          "2",
          "2",
          "2",
          "2",
          "2",
          "2",
          "?",
          "2",
          "2",
          "2",
          "1",
          "2",
          "2",
          "2",
          "1",
          "1",
          "1",
          "1",
          "?",
          "1",
          "1",
          "1",
          "1",
          "1",
          "2",
          "1",
          "2",
          "2",
          "2",
          "2",
          "2",
          "2",
          "2",
          "2",
          "1",
          "1",
          "1",
          "1",
          "1",
          "1",
          "1",
          "1",
          "1",
          "1",
          "1",
          "1",
          "1",
          "2",
          "1",
          "1",
          "2",
          "1",
          "1",
          "1",
          "1",
          "1",
          "1",
          "0",
          "1",
          "0",
          "1",
          "1",
          "0",
          "0",
          "1",
          "0",
          "1",
          "1",
          "?",
          "1",
          "1",
          "1",
          "2",
          "2",
          "2",
          "2",
          "2",
          "2",
          "2",
          "2",
          "2",
          "2",
          "2",
          "1",
          "1",
          "1",
          "2",
          "3",
          "3",
          "2",
          "2",
          "3",
          "2",
          "3",
          "3",
          "3",
          "3",
          "2",
          "2",
          "2",
          "2",
          "2",
          "2",
          "1",
          "?",
          "2",
          "2",
          "2",
          "1",
          "1",
          "2",
          "2",
          "2",
          "2",
          "1",
          "?",
          "1",
          "1",
          "1",
          "1",
          "1",
          "1",
          "1",
          "1",
          "2",
          "2",
          "1",
          "1",
          "1",
          "1",
          "1"
         ]
        }
       ],
       "layout": {
        "height": 400,
        "template": {
         "data": {
          "bar": [
           {
            "error_x": {
             "color": "#2a3f5f"
            },
            "error_y": {
             "color": "#2a3f5f"
            },
            "marker": {
             "line": {
              "color": "#E5ECF6",
              "width": 0.5
             },
             "pattern": {
              "fillmode": "overlay",
              "size": 10,
              "solidity": 0.2
             }
            },
            "type": "bar"
           }
          ],
          "barpolar": [
           {
            "marker": {
             "line": {
              "color": "#E5ECF6",
              "width": 0.5
             },
             "pattern": {
              "fillmode": "overlay",
              "size": 10,
              "solidity": 0.2
             }
            },
            "type": "barpolar"
           }
          ],
          "carpet": [
           {
            "aaxis": {
             "endlinecolor": "#2a3f5f",
             "gridcolor": "white",
             "linecolor": "white",
             "minorgridcolor": "white",
             "startlinecolor": "#2a3f5f"
            },
            "baxis": {
             "endlinecolor": "#2a3f5f",
             "gridcolor": "white",
             "linecolor": "white",
             "minorgridcolor": "white",
             "startlinecolor": "#2a3f5f"
            },
            "type": "carpet"
           }
          ],
          "choropleth": [
           {
            "colorbar": {
             "outlinewidth": 0,
             "ticks": ""
            },
            "type": "choropleth"
           }
          ],
          "contour": [
           {
            "colorbar": {
             "outlinewidth": 0,
             "ticks": ""
            },
            "colorscale": [
             [
              0,
              "#0d0887"
             ],
             [
              0.1111111111111111,
              "#46039f"
             ],
             [
              0.2222222222222222,
              "#7201a8"
             ],
             [
              0.3333333333333333,
              "#9c179e"
             ],
             [
              0.4444444444444444,
              "#bd3786"
             ],
             [
              0.5555555555555556,
              "#d8576b"
             ],
             [
              0.6666666666666666,
              "#ed7953"
             ],
             [
              0.7777777777777778,
              "#fb9f3a"
             ],
             [
              0.8888888888888888,
              "#fdca26"
             ],
             [
              1,
              "#f0f921"
             ]
            ],
            "type": "contour"
           }
          ],
          "contourcarpet": [
           {
            "colorbar": {
             "outlinewidth": 0,
             "ticks": ""
            },
            "type": "contourcarpet"
           }
          ],
          "heatmap": [
           {
            "colorbar": {
             "outlinewidth": 0,
             "ticks": ""
            },
            "colorscale": [
             [
              0,
              "#0d0887"
             ],
             [
              0.1111111111111111,
              "#46039f"
             ],
             [
              0.2222222222222222,
              "#7201a8"
             ],
             [
              0.3333333333333333,
              "#9c179e"
             ],
             [
              0.4444444444444444,
              "#bd3786"
             ],
             [
              0.5555555555555556,
              "#d8576b"
             ],
             [
              0.6666666666666666,
              "#ed7953"
             ],
             [
              0.7777777777777778,
              "#fb9f3a"
             ],
             [
              0.8888888888888888,
              "#fdca26"
             ],
             [
              1,
              "#f0f921"
             ]
            ],
            "type": "heatmap"
           }
          ],
          "heatmapgl": [
           {
            "colorbar": {
             "outlinewidth": 0,
             "ticks": ""
            },
            "colorscale": [
             [
              0,
              "#0d0887"
             ],
             [
              0.1111111111111111,
              "#46039f"
             ],
             [
              0.2222222222222222,
              "#7201a8"
             ],
             [
              0.3333333333333333,
              "#9c179e"
             ],
             [
              0.4444444444444444,
              "#bd3786"
             ],
             [
              0.5555555555555556,
              "#d8576b"
             ],
             [
              0.6666666666666666,
              "#ed7953"
             ],
             [
              0.7777777777777778,
              "#fb9f3a"
             ],
             [
              0.8888888888888888,
              "#fdca26"
             ],
             [
              1,
              "#f0f921"
             ]
            ],
            "type": "heatmapgl"
           }
          ],
          "histogram": [
           {
            "marker": {
             "pattern": {
              "fillmode": "overlay",
              "size": 10,
              "solidity": 0.2
             }
            },
            "type": "histogram"
           }
          ],
          "histogram2d": [
           {
            "colorbar": {
             "outlinewidth": 0,
             "ticks": ""
            },
            "colorscale": [
             [
              0,
              "#0d0887"
             ],
             [
              0.1111111111111111,
              "#46039f"
             ],
             [
              0.2222222222222222,
              "#7201a8"
             ],
             [
              0.3333333333333333,
              "#9c179e"
             ],
             [
              0.4444444444444444,
              "#bd3786"
             ],
             [
              0.5555555555555556,
              "#d8576b"
             ],
             [
              0.6666666666666666,
              "#ed7953"
             ],
             [
              0.7777777777777778,
              "#fb9f3a"
             ],
             [
              0.8888888888888888,
              "#fdca26"
             ],
             [
              1,
              "#f0f921"
             ]
            ],
            "type": "histogram2d"
           }
          ],
          "histogram2dcontour": [
           {
            "colorbar": {
             "outlinewidth": 0,
             "ticks": ""
            },
            "colorscale": [
             [
              0,
              "#0d0887"
             ],
             [
              0.1111111111111111,
              "#46039f"
             ],
             [
              0.2222222222222222,
              "#7201a8"
             ],
             [
              0.3333333333333333,
              "#9c179e"
             ],
             [
              0.4444444444444444,
              "#bd3786"
             ],
             [
              0.5555555555555556,
              "#d8576b"
             ],
             [
              0.6666666666666666,
              "#ed7953"
             ],
             [
              0.7777777777777778,
              "#fb9f3a"
             ],
             [
              0.8888888888888888,
              "#fdca26"
             ],
             [
              1,
              "#f0f921"
             ]
            ],
            "type": "histogram2dcontour"
           }
          ],
          "mesh3d": [
           {
            "colorbar": {
             "outlinewidth": 0,
             "ticks": ""
            },
            "type": "mesh3d"
           }
          ],
          "parcoords": [
           {
            "line": {
             "colorbar": {
              "outlinewidth": 0,
              "ticks": ""
             }
            },
            "type": "parcoords"
           }
          ],
          "pie": [
           {
            "automargin": true,
            "type": "pie"
           }
          ],
          "scatter": [
           {
            "marker": {
             "colorbar": {
              "outlinewidth": 0,
              "ticks": ""
             }
            },
            "type": "scatter"
           }
          ],
          "scatter3d": [
           {
            "line": {
             "colorbar": {
              "outlinewidth": 0,
              "ticks": ""
             }
            },
            "marker": {
             "colorbar": {
              "outlinewidth": 0,
              "ticks": ""
             }
            },
            "type": "scatter3d"
           }
          ],
          "scattercarpet": [
           {
            "marker": {
             "colorbar": {
              "outlinewidth": 0,
              "ticks": ""
             }
            },
            "type": "scattercarpet"
           }
          ],
          "scattergeo": [
           {
            "marker": {
             "colorbar": {
              "outlinewidth": 0,
              "ticks": ""
             }
            },
            "type": "scattergeo"
           }
          ],
          "scattergl": [
           {
            "marker": {
             "colorbar": {
              "outlinewidth": 0,
              "ticks": ""
             }
            },
            "type": "scattergl"
           }
          ],
          "scattermapbox": [
           {
            "marker": {
             "colorbar": {
              "outlinewidth": 0,
              "ticks": ""
             }
            },
            "type": "scattermapbox"
           }
          ],
          "scatterpolar": [
           {
            "marker": {
             "colorbar": {
              "outlinewidth": 0,
              "ticks": ""
             }
            },
            "type": "scatterpolar"
           }
          ],
          "scatterpolargl": [
           {
            "marker": {
             "colorbar": {
              "outlinewidth": 0,
              "ticks": ""
             }
            },
            "type": "scatterpolargl"
           }
          ],
          "scatterternary": [
           {
            "marker": {
             "colorbar": {
              "outlinewidth": 0,
              "ticks": ""
             }
            },
            "type": "scatterternary"
           }
          ],
          "surface": [
           {
            "colorbar": {
             "outlinewidth": 0,
             "ticks": ""
            },
            "colorscale": [
             [
              0,
              "#0d0887"
             ],
             [
              0.1111111111111111,
              "#46039f"
             ],
             [
              0.2222222222222222,
              "#7201a8"
             ],
             [
              0.3333333333333333,
              "#9c179e"
             ],
             [
              0.4444444444444444,
              "#bd3786"
             ],
             [
              0.5555555555555556,
              "#d8576b"
             ],
             [
              0.6666666666666666,
              "#ed7953"
             ],
             [
              0.7777777777777778,
              "#fb9f3a"
             ],
             [
              0.8888888888888888,
              "#fdca26"
             ],
             [
              1,
              "#f0f921"
             ]
            ],
            "type": "surface"
           }
          ],
          "table": [
           {
            "cells": {
             "fill": {
              "color": "#EBF0F8"
             },
             "line": {
              "color": "white"
             }
            },
            "header": {
             "fill": {
              "color": "#C8D4E3"
             },
             "line": {
              "color": "white"
             }
            },
            "type": "table"
           }
          ]
         },
         "layout": {
          "annotationdefaults": {
           "arrowcolor": "#2a3f5f",
           "arrowhead": 0,
           "arrowwidth": 1
          },
          "autotypenumbers": "strict",
          "coloraxis": {
           "colorbar": {
            "outlinewidth": 0,
            "ticks": ""
           }
          },
          "colorscale": {
           "diverging": [
            [
             0,
             "#8e0152"
            ],
            [
             0.1,
             "#c51b7d"
            ],
            [
             0.2,
             "#de77ae"
            ],
            [
             0.3,
             "#f1b6da"
            ],
            [
             0.4,
             "#fde0ef"
            ],
            [
             0.5,
             "#f7f7f7"
            ],
            [
             0.6,
             "#e6f5d0"
            ],
            [
             0.7,
             "#b8e186"
            ],
            [
             0.8,
             "#7fbc41"
            ],
            [
             0.9,
             "#4d9221"
            ],
            [
             1,
             "#276419"
            ]
           ],
           "sequential": [
            [
             0,
             "#0d0887"
            ],
            [
             0.1111111111111111,
             "#46039f"
            ],
            [
             0.2222222222222222,
             "#7201a8"
            ],
            [
             0.3333333333333333,
             "#9c179e"
            ],
            [
             0.4444444444444444,
             "#bd3786"
            ],
            [
             0.5555555555555556,
             "#d8576b"
            ],
            [
             0.6666666666666666,
             "#ed7953"
            ],
            [
             0.7777777777777778,
             "#fb9f3a"
            ],
            [
             0.8888888888888888,
             "#fdca26"
            ],
            [
             1,
             "#f0f921"
            ]
           ],
           "sequentialminus": [
            [
             0,
             "#0d0887"
            ],
            [
             0.1111111111111111,
             "#46039f"
            ],
            [
             0.2222222222222222,
             "#7201a8"
            ],
            [
             0.3333333333333333,
             "#9c179e"
            ],
            [
             0.4444444444444444,
             "#bd3786"
            ],
            [
             0.5555555555555556,
             "#d8576b"
            ],
            [
             0.6666666666666666,
             "#ed7953"
            ],
            [
             0.7777777777777778,
             "#fb9f3a"
            ],
            [
             0.8888888888888888,
             "#fdca26"
            ],
            [
             1,
             "#f0f921"
            ]
           ]
          },
          "colorway": [
           "#636efa",
           "#EF553B",
           "#00cc96",
           "#ab63fa",
           "#FFA15A",
           "#19d3f3",
           "#FF6692",
           "#B6E880",
           "#FF97FF",
           "#FECB52"
          ],
          "font": {
           "color": "#2a3f5f"
          },
          "geo": {
           "bgcolor": "white",
           "lakecolor": "white",
           "landcolor": "#E5ECF6",
           "showlakes": true,
           "showland": true,
           "subunitcolor": "white"
          },
          "hoverlabel": {
           "align": "left"
          },
          "hovermode": "closest",
          "mapbox": {
           "style": "light"
          },
          "paper_bgcolor": "white",
          "plot_bgcolor": "#E5ECF6",
          "polar": {
           "angularaxis": {
            "gridcolor": "white",
            "linecolor": "white",
            "ticks": ""
           },
           "bgcolor": "#E5ECF6",
           "radialaxis": {
            "gridcolor": "white",
            "linecolor": "white",
            "ticks": ""
           }
          },
          "scene": {
           "xaxis": {
            "backgroundcolor": "#E5ECF6",
            "gridcolor": "white",
            "gridwidth": 2,
            "linecolor": "white",
            "showbackground": true,
            "ticks": "",
            "zerolinecolor": "white"
           },
           "yaxis": {
            "backgroundcolor": "#E5ECF6",
            "gridcolor": "white",
            "gridwidth": 2,
            "linecolor": "white",
            "showbackground": true,
            "ticks": "",
            "zerolinecolor": "white"
           },
           "zaxis": {
            "backgroundcolor": "#E5ECF6",
            "gridcolor": "white",
            "gridwidth": 2,
            "linecolor": "white",
            "showbackground": true,
            "ticks": "",
            "zerolinecolor": "white"
           }
          },
          "shapedefaults": {
           "line": {
            "color": "#2a3f5f"
           }
          },
          "ternary": {
           "aaxis": {
            "gridcolor": "white",
            "linecolor": "white",
            "ticks": ""
           },
           "baxis": {
            "gridcolor": "white",
            "linecolor": "white",
            "ticks": ""
           },
           "bgcolor": "#E5ECF6",
           "caxis": {
            "gridcolor": "white",
            "linecolor": "white",
            "ticks": ""
           }
          },
          "title": {
           "x": 0.05
          },
          "xaxis": {
           "automargin": true,
           "gridcolor": "white",
           "linecolor": "white",
           "ticks": "",
           "title": {
            "standoff": 15
           },
           "zerolinecolor": "white",
           "zerolinewidth": 2
          },
          "yaxis": {
           "automargin": true,
           "gridcolor": "white",
           "linecolor": "white",
           "ticks": "",
           "title": {
            "standoff": 15
           },
           "zerolinecolor": "white",
           "zerolinewidth": 2
          }
         }
        },
        "title": {
         "text": "Wind level"
        },
        "width": 800
       }
      }
     },
     "metadata": {},
     "output_type": "display_data"
    }
   ],
   "source": [
    "visualizable_feature_names_weather = weatherdf.columns[2:]\n",
    "num_visualizable_features_weather = len(visualizable_feature_names_weather)\n",
    "fig_hist_weather = []\n",
    "for i, feature_name in enumerate(visualizable_feature_names_weather):\n",
    "    fig_hist_weather.append(go.Figure(go.Histogram(x=weatherdf[feature_name])))\n",
    "    fig_hist_weather[i].update_layout(height=400, width=800, title_text=feature_name)\n",
    "    fig_hist_weather[i].show()"
   ]
  },
  {
   "cell_type": "markdown",
   "metadata": {},
   "source": [
    "Observations:\n",
    "- **Index** is the index of the data and is uninformative and does not provide any discrimination power;\n",
    "- **Wind level** looks like a numerical feature but it is actually a ordinal feature, so a unary encoding might be the best bet;\n",
    "- **Wind level** has missing value. \n",
    "- Values of features **Temperatue** and **Humidity** come in different ranges, so it's a good idea to normalize them."
   ]
  },
  {
   "cell_type": "markdown",
   "metadata": {},
   "source": [
    "### Pairwise Scatter Plot"
   ]
  },
  {
   "cell_type": "code",
   "execution_count": 9,
   "metadata": {},
   "outputs": [
    {
     "data": {
      "application/vnd.plotly.v1+json": {
       "config": {
        "plotlyServerURL": "https://plot.ly"
       },
       "data": [
        {
         "dimensions": [
          {
           "label": "Temperature",
           "values": [
            28.1,
            29.2,
            31.4,
            31.4,
            31.4,
            33.6,
            34.9,
            34.5,
            35.4,
            34.4,
            34.2,
            33.9,
            29.7,
            28,
            27.7,
            24.6,
            24.1,
            23.7,
            21.3,
            23.9,
            24.3,
            24.2,
            24.9,
            26.4,
            27.4,
            27.2,
            27.3,
            27.7,
            29.2,
            26.5,
            29.2,
            29.1,
            29.5,
            31.2,
            29.4,
            31.1,
            28,
            27,
            27.5,
            29.1,
            26.8,
            26.6,
            27.4,
            24.3,
            24.8,
            23.7,
            27.4,
            29.3,
            26.6,
            25.8,
            24.9,
            23.9,
            24.9,
            27.8,
            29.6,
            28.9,
            26.8,
            26.5,
            29.7,
            28.4,
            28.3,
            27.4,
            24.8,
            24.1,
            24.3,
            24.9,
            26.3,
            25.9,
            23.5,
            24.1,
            26,
            26.9,
            30,
            25.2,
            24.1,
            23.9,
            21.8,
            21.1,
            18.9,
            17.7,
            15.8,
            17.3,
            14.1,
            16,
            13.9,
            14.5,
            14.8,
            13.5,
            16.3,
            16.2,
            16.5,
            13.3,
            13,
            13.1,
            11.4,
            10.2,
            9.6,
            9.8,
            8.4,
            6,
            3.8,
            3.7,
            2.7,
            2.5,
            4.4,
            6,
            5.5,
            5.3,
            5.1,
            4,
            4.1,
            4.1,
            7.9,
            7.4,
            6.8,
            4,
            1.8,
            2.6,
            3.2,
            6.3,
            4.7,
            6.1,
            0.7,
            1.4,
            3.4,
            1.8,
            2.2,
            0.5,
            -1.4,
            -4.8,
            -3.9,
            -7.4,
            -5.3,
            -7.5,
            -8.7,
            -8.7,
            -8.7,
            -8.1,
            -9.3,
            -7.3,
            -6,
            -7,
            -7.6,
            -6.3,
            -7.6,
            -8.4,
            -9.9,
            -10.5,
            -8.8,
            -9,
            -10.4,
            -9.4,
            -9.5,
            -9.7,
            -11.8,
            -8,
            -5.9,
            -8.2,
            -7.9,
            -9.6,
            -9.2,
            -7,
            -8.5,
            -7.7,
            -6.4,
            -7.9,
            -6.2,
            -5.1,
            -7,
            -6.9,
            -9.1,
            -10.7,
            -9.3,
            -10.3,
            -9.8,
            -10.9,
            -11.6,
            -11.6,
            -7.3,
            -5.4,
            -5.5,
            -6.8,
            -6.7,
            -7.3,
            -7.5,
            -7,
            -8.9,
            -9.7,
            -15.1,
            -16.5,
            -14.3,
            -12.7,
            -14.9,
            -14.5,
            -14.9,
            -16.6,
            -16.3,
            -15.2,
            -14.7,
            -13.7,
            -14.1,
            -13,
            -10,
            -12,
            -13.7,
            -11.9,
            -11.5,
            -10.9,
            -4.5,
            -4.2,
            -3.5,
            -3.7,
            -4.2,
            -2.8,
            -0.7,
            -2.3,
            -3.3,
            -4.5,
            -9.4,
            -7.1,
            -11,
            -11.3,
            -14.2,
            -14.4,
            -14,
            -12.9,
            -13.9,
            -14.2,
            -13.5,
            -17.3,
            -14.7,
            -15.5,
            -14.2,
            -10.9,
            -11.4,
            -14.1,
            -12.4,
            -12.3,
            -12.1,
            -12.1,
            -12.5,
            -11.9,
            -9.9,
            -14.1,
            -15.3,
            -13.3,
            -14.3,
            -11.1,
            -11.6,
            -12.1,
            -10.7,
            -8.6,
            -8.3,
            -8.6,
            -8.7,
            -6.4,
            -6.3,
            -7.9,
            -7.3,
            -6.8,
            -7.9,
            -14.6,
            -17.1,
            -15.3,
            -16.1,
            -15.5,
            -16.3,
            -17.2,
            -17.9,
            -14.7,
            -16.2,
            -10.4,
            -8.9,
            -9.6,
            -7.2,
            -8.8,
            -7.5,
            -6.6,
            -7,
            -8.5,
            -5.6,
            -4.8,
            -6.1,
            -1.8,
            -4.6,
            -4.8,
            -3,
            -2.4,
            -2.4,
            -2.5,
            -3.6,
            -6.1,
            -3.1,
            -5,
            -3,
            -1.3,
            -1.3,
            -0.3,
            1.7,
            1.3,
            1.6,
            3.7,
            3.8,
            3.7,
            5.1,
            6,
            5.3,
            5.3,
            4.7,
            5.9,
            8.5,
            9,
            9.7,
            11.8,
            12.1,
            11.8,
            12.6,
            12.8,
            13.4,
            14.2,
            14,
            12.4,
            14.5,
            12,
            10.9,
            12,
            13.8,
            14.7,
            16.1,
            16.5,
            15,
            16.6,
            13.6,
            16.6,
            18.4,
            16.3,
            15.4,
            15.5,
            14.5,
            13.9,
            15.8,
            16.5,
            17.1,
            15.7,
            16.6,
            16.3,
            15.3,
            14.3,
            15.2,
            17,
            19,
            20.2,
            21,
            22,
            20.8,
            23,
            24.8,
            26.5,
            26.1,
            26.7,
            27.1,
            26.2,
            27.3,
            28.5,
            29.6,
            30.2,
            30.9,
            30.9,
            31.2,
            30.9,
            29.8,
            32,
            33,
            35.1,
            34.8,
            35.9,
            36.3,
            39.2,
            39.3,
            38.4,
            37.1,
            32.7,
            30.9,
            27.3,
            28.6,
            28,
            30.3,
            28.8,
            29.2,
            29.1,
            30.6,
            31.6,
            34.7,
            37.2,
            36.4,
            33.7,
            33,
            31.6,
            33.9,
            33,
            31.5,
            33.1,
            30.8,
            28.6,
            29.9,
            30.6,
            28.5,
            28.7,
            27.6,
            30.4,
            29.5,
            27.4,
            28.7,
            29.5,
            27.5,
            30.7,
            30.8,
            31.9,
            31,
            32.5,
            35.9,
            37.2,
            36.6,
            36.6,
            39,
            35.5,
            35.9,
            35.4,
            32.7,
            28.2,
            23,
            22.6,
            22,
            22.7,
            20.6,
            23.5,
            20.5,
            16.6,
            18.3,
            19.9,
            22.1,
            19.4,
            17.9,
            13.9,
            14.2,
            12.1,
            12.3,
            13.3,
            11.6,
            10.6,
            11.4,
            12.3,
            12.6,
            13.1,
            10.8,
            9.7,
            9.1,
            8.6,
            8,
            10.1,
            8.5,
            8.4,
            7.5,
            7.6,
            7.8,
            8.3,
            10.1,
            9.7,
            10,
            6.7,
            3.3,
            1.8,
            2.8,
            4.6,
            4.1,
            3.6,
            2.6,
            6.8,
            8.5,
            8.3,
            9.6,
            9.1,
            7.2,
            3.7,
            1.8,
            -0.2,
            -2.4,
            -4.5,
            -5.2,
            -5.4,
            -2.7,
            -0.9,
            -2.6,
            -0.1,
            2.1,
            1.2,
            2,
            -1.6,
            -4.8,
            -3.9,
            -3.7,
            -5.8,
            -4.3,
            -7.4,
            -9,
            -8.7,
            -9.8,
            -8.9,
            -8.5,
            -9.6,
            -12.3,
            -11.1,
            -13.2,
            -13.3,
            -11.9,
            -10.7,
            -11.1,
            -11.2,
            -9.4,
            -12.1,
            -11.5,
            -12.2,
            -10.5,
            -10.9,
            -14.3,
            -17.1,
            -16,
            -15.9,
            -18.2,
            -15.3,
            -18.3,
            -17.6,
            -20,
            -20,
            -17.7,
            -16.8,
            -17.4,
            -16.6,
            -16.2,
            -16.1,
            -15.4,
            -14.7,
            -11.4,
            -13.8,
            -14.9,
            -13.1,
            -13,
            -13.8,
            -13.9,
            -14.9,
            -13.7,
            -12.9,
            -14.4,
            -10.9,
            -10.4,
            -11.8,
            -12.1,
            -12.1,
            -11.9,
            -11.6,
            -8.8,
            -9.2,
            -9.9,
            -8.8,
            -8.8,
            -10.8,
            -11.5,
            -14.4,
            -14.3,
            -14.7,
            -15.2,
            -15.9,
            -15.8,
            -16.2,
            -18.5,
            -15.6,
            -13.4,
            -12.9,
            -11,
            -10.5,
            -13.2,
            -12.8,
            -9.6,
            -10.5,
            -7.3,
            -8.2,
            -10.3,
            -7.3,
            -9.9,
            -10.2,
            -10.3,
            -10.5,
            -12.9,
            -11.8,
            -12.8,
            -12.5,
            -12.7,
            -14.3,
            -12.7,
            -11.8,
            -12.4,
            -11.8,
            -10.5,
            -11.3,
            -8.2,
            -8.8,
            -9.1,
            -10.8,
            -9.3,
            -9.4,
            -8.2,
            -8.9,
            -12,
            -9.4,
            -11.5,
            -10.3,
            -7.7,
            -4.8,
            -6.3,
            -8,
            -7.3,
            -5.1,
            -1.9,
            -2.8,
            -3.5,
            -4.8,
            -5.8,
            -6.2,
            -4.9,
            -5.9,
            -4.4,
            -6.9,
            -9,
            -12.1,
            -13.4,
            -10.9,
            -10.5,
            -12,
            -14.8,
            -12.9,
            -12.5,
            -12.4,
            -13.5,
            -12.3,
            -10.3,
            -14.6,
            -14.5,
            -12.9,
            -10,
            -7,
            -7.4,
            -7.1,
            -6.3,
            -2.4,
            -1.7,
            2.1,
            2.5,
            3.4,
            2.6,
            -0.1,
            -1.9,
            -1.3,
            -0.2,
            -4,
            -3.6,
            -3.6,
            -1.2,
            -4.5,
            -2.5,
            0.2,
            -1.3,
            -1.3,
            -0.7,
            -1.1,
            -1.8,
            -2.5,
            -1.8,
            3.3,
            3.9,
            3.7,
            5.4,
            5.6,
            7.1,
            7.8,
            10.2,
            11.7,
            9.5,
            9.7,
            9.1,
            8.2,
            11.5,
            11.3,
            11.9,
            14.7,
            13.9,
            15.1,
            14.4,
            15.2,
            14.8,
            15.1,
            15.4,
            16.4,
            14.2,
            11.9,
            13.6,
            12,
            16.3,
            12.9,
            15.7,
            17.1,
            16.1,
            16.7,
            19.5,
            21.8,
            22.9,
            25.1,
            23.4,
            26,
            24.2,
            24.7,
            23,
            22.4,
            23.2,
            23.8,
            22.5,
            22.8,
            23.4,
            23.5,
            22.9,
            23.1,
            24.3,
            26.9,
            24,
            25.4,
            26.5,
            27.1,
            28.2,
            31.2,
            33.8,
            31.4,
            31.2,
            30.1,
            32.5,
            32,
            30.7,
            30.8,
            28.7,
            25.9,
            23,
            24.3,
            24.3,
            23.9,
            25.3,
            23.5,
            27.9,
            28.3,
            29.6,
            29.3,
            32,
            32.5,
            34.4,
            38.9,
            37.4,
            40,
            35.7,
            35,
            36.9,
            37.1,
            38.4,
            40,
            39,
            36.4,
            37.6,
            36.8,
            35.5,
            34.5,
            31.7,
            32.2,
            30.5,
            29.6,
            28.4,
            27.9
           ]
          },
          {
           "label": "Humidity",
           "values": [
            0.563,
            0.604,
            0.637,
            0.658,
            0.662,
            0.613,
            0.632,
            0.645,
            0.659,
            0.599,
            0.546,
            0.549,
            0.522,
            0.533,
            0.539,
            0.602,
            0.623,
            0.6,
            0.596,
            0.628,
            0.653,
            0.605,
            0.617,
            0.575,
            0.621,
            0.588,
            0.547,
            0.551,
            0.601,
            0.625,
            0.678,
            0.635,
            0.635,
            0.685,
            0.64,
            0.71,
            0.697,
            0.762,
            0.79,
            0.767,
            0.71,
            0.812,
            0.855,
            0.8,
            0.778,
            0.726,
            0.693,
            0.608,
            0.49,
            0.473,
            0.483,
            0.438,
            0.434,
            0.414,
            0.456,
            0.453,
            0.49,
            0.535,
            0.526,
            0.555,
            0.555,
            0.556,
            0.511,
            0.606,
            0.551,
            0.534,
            0.51,
            0.469,
            0.475,
            0.489,
            0.515,
            0.479,
            0.442,
            0.385,
            0.38,
            0.402,
            0.414,
            0.384,
            0.426,
            0.432,
            0.378,
            0.374,
            0.39,
            0.379,
            0.395,
            0.413,
            0.397,
            0.401,
            0.337,
            0.284,
            0.287,
            0.317,
            0.296,
            0.286,
            0.268,
            0.248,
            0.281,
            0.277,
            0.282,
            0.298,
            0.298,
            0.29,
            0.295,
            0.278,
            0.277,
            0.267,
            0.239,
            0.242,
            0.25,
            0.242,
            0.24,
            0.221,
            0.206,
            0.202,
            0.2,
            0.177,
            0.167,
            0.153,
            0.14,
            0.135,
            0.122,
            0.113,
            0.101,
            0.1,
            0.092,
            0.103,
            0.095,
            0.093,
            0.09,
            0.087,
            0.081,
            0.078,
            0.081,
            0.075,
            0.067,
            0.058,
            0.058,
            0.052,
            0.049,
            0.04,
            0.041,
            0.035,
            0.03,
            0.029,
            0.03,
            0.028,
            0.024,
            0.026,
            0.022,
            0.019,
            0.017,
            0.016,
            0.015,
            0.014,
            0.012,
            0.01,
            0.009,
            0.008,
            0.008,
            0.009,
            0.009,
            0.008,
            0.007,
            0.006,
            0.005,
            0.005,
            0.005,
            0.004,
            0.003,
            0.003,
            0.002,
            0.002,
            0.002,
            0.002,
            0.002,
            0.002,
            0.002,
            0.002,
            0.001,
            0.001,
            0.001,
            0.001,
            0.001,
            0.001,
            0.001,
            0,
            0,
            0,
            0,
            0,
            0,
            0,
            0,
            0,
            0,
            0,
            0,
            0,
            0,
            0,
            0,
            0,
            0,
            0,
            0,
            0,
            0,
            0,
            0,
            0,
            0,
            0,
            0,
            0,
            0,
            0,
            0,
            0,
            0,
            0,
            0,
            0,
            0,
            0,
            0,
            0,
            0,
            0,
            0,
            0,
            0,
            0,
            0,
            0,
            0,
            0,
            0,
            0,
            0,
            0.001,
            0.001,
            0.001,
            0.001,
            0.001,
            0.001,
            0.002,
            0.002,
            0.002,
            0.002,
            0.002,
            0.002,
            0.003,
            0.003,
            0.003,
            0.003,
            0.004,
            0.005,
            0.006,
            0.007,
            0.007,
            0.008,
            0.009,
            0.01,
            0.011,
            0.013,
            0.015,
            0.014,
            0.016,
            0.017,
            0.019,
            0.02,
            0.02,
            0.02,
            0.025,
            0.026,
            0.025,
            0.029,
            0.026,
            0.029,
            0.027,
            0.029,
            0.03,
            0.029,
            0.031,
            0.03,
            0.034,
            0.033,
            0.046,
            0.045,
            0.049,
            0.057,
            0.062,
            0.064,
            0.061,
            0.073,
            0.079,
            0.081,
            0.081,
            0.083,
            0.106,
            0.107,
            0.117,
            0.139,
            0.15,
            0.144,
            0.142,
            0.15,
            0.159,
            0.174,
            0.163,
            0.173,
            0.174,
            0.172,
            0.155,
            0.173,
            0.185,
            0.203,
            0.178,
            0.2,
            0.204,
            0.215,
            0.209,
            0.223,
            0.243,
            0.228,
            0.258,
            0.247,
            0.303,
            0.292,
            0.31,
            0.302,
            0.334,
            0.375,
            0.402,
            0.427,
            0.421,
            0.456,
            0.486,
            0.492,
            0.469,
            0.511,
            0.489,
            0.452,
            0.446,
            0.448,
            0.44,
            0.43,
            0.419,
            0.451,
            0.499,
            0.459,
            0.522,
            0.554,
            0.55,
            0.577,
            0.596,
            0.587,
            0.623,
            0.58,
            0.578,
            0.588,
            0.567,
            0.504,
            0.503,
            0.54,
            0.497,
            0.48,
            0.371,
            0.358,
            0.314,
            0.377,
            0.414,
            0.431,
            0.56,
            0.543,
            0.565,
            0.517,
            0.676,
            0.653,
            0.645,
            0.627,
            0.681,
            0.758,
            0.701,
            0.689,
            0.734,
            0.855,
            0.784,
            0.84,
            0.9,
            0.836,
            0.737,
            0.624,
            0.6,
            0.542,
            0.469,
            0.448,
            0.488,
            0.517,
            0.461,
            0.451,
            0.495,
            0.519,
            0.513,
            0.566,
            0.569,
            0.564,
            0.464,
            0.408,
            0.472,
            0.448,
            0.428,
            0.458,
            0.482,
            0.467,
            0.542,
            0.539,
            0.564,
            0.583,
            0.585,
            0.632,
            0.613,
            0.585,
            0.541,
            0.484,
            0.49,
            0.443,
            0.43,
            0.399,
            0.404,
            0.389,
            0.418,
            0.412,
            0.432,
            0.441,
            0.445,
            0.439,
            0.458,
            0.484,
            0.464,
            0.458,
            0.417,
            0.426,
            0.408,
            0.441,
            0.434,
            0.438,
            0.394,
            0.37,
            0.406,
            0.385,
            0.411,
            0.432,
            0.415,
            0.398,
            0.378,
            0.371,
            0.381,
            0.363,
            0.296,
            0.291,
            0.24,
            0.209,
            0.2,
            0.189,
            0.141,
            0.146,
            0.155,
            0.132,
            0.145,
            0.162,
            0.156,
            0.169,
            0.175,
            0.16,
            0.169,
            0.165,
            0.152,
            0.168,
            0.151,
            0.137,
            0.13,
            0.112,
            0.098,
            0.094,
            0.098,
            0.097,
            0.096,
            0.083,
            0.082,
            0.084,
            0.088,
            0.095,
            0.097,
            0.096,
            0.085,
            0.077,
            0.07,
            0.073,
            0.073,
            0.063,
            0.055,
            0.041,
            0.039,
            0.033,
            0.027,
            0.026,
            0.03,
            0.027,
            0.025,
            0.025,
            0.025,
            0.027,
            0.024,
            0.024,
            0.026,
            0.023,
            0.019,
            0.018,
            0.015,
            0.014,
            0.013,
            0.011,
            0.01,
            0.01,
            0.009,
            0.009,
            0.008,
            0.008,
            0.007,
            0.007,
            0.006,
            0.005,
            0.004,
            0.004,
            0.003,
            0.003,
            0.002,
            0.002,
            0.002,
            0.001,
            0.001,
            0.001,
            0.001,
            0.001,
            0.001,
            0.001,
            0.001,
            0,
            0,
            0,
            0,
            0,
            0,
            0,
            0,
            0,
            0,
            0,
            0,
            0,
            0,
            0,
            0,
            0,
            0,
            0,
            0,
            0,
            0,
            0,
            0,
            0,
            0,
            0,
            0,
            0,
            0,
            0,
            0,
            0,
            0,
            0,
            0,
            0,
            0,
            0,
            0,
            0,
            0,
            0,
            0,
            0,
            0,
            0,
            0,
            0,
            0,
            0,
            0,
            0,
            0,
            0,
            0.001,
            0.001,
            0.001,
            0.001,
            0.001,
            0.001,
            0.001,
            0.001,
            0.002,
            0.002,
            0.002,
            0.002,
            0.002,
            0.002,
            0.003,
            0.003,
            0.003,
            0.004,
            0.004,
            0.005,
            0.006,
            0.006,
            0.007,
            0.009,
            0.01,
            0.01,
            0.012,
            0.012,
            0.014,
            0.017,
            0.017,
            0.02,
            0.023,
            0.024,
            0.026,
            0.027,
            0.025,
            0.027,
            0.024,
            0.029,
            0.029,
            0.028,
            0.028,
            0.029,
            0.031,
            0.035,
            0.038,
            0.043,
            0.052,
            0.048,
            0.059,
            0.065,
            0.072,
            0.077,
            0.083,
            0.084,
            0.086,
            0.093,
            0.093,
            0.096,
            0.095,
            0.104,
            0.105,
            0.107,
            0.116,
            0.121,
            0.153,
            0.161,
            0.159,
            0.176,
            0.181,
            0.189,
            0.202,
            0.206,
            0.186,
            0.189,
            0.161,
            0.155,
            0.186,
            0.202,
            0.209,
            0.187,
            0.19,
            0.213,
            0.228,
            0.236,
            0.255,
            0.26,
            0.268,
            0.249,
            0.256,
            0.268,
            0.261,
            0.26,
            0.271,
            0.311,
            0.311,
            0.338,
            0.351,
            0.334,
            0.298,
            0.292,
            0.334,
            0.314,
            0.385,
            0.342,
            0.362,
            0.4,
            0.433,
            0.525,
            0.607,
            0.682,
            0.677,
            0.723,
            0.653,
            0.657,
            0.662,
            0.625,
            0.566,
            0.536,
            0.536,
            0.516,
            0.549,
            0.499,
            0.516,
            0.525,
            0.474,
            0.482,
            0.497,
            0.529,
            0.524,
            0.492,
            0.509,
            0.593,
            0.624,
            0.646,
            0.682,
            0.677,
            0.723,
            0.741,
            0.778,
            0.801,
            0.7,
            0.665,
            0.584,
            0.607,
            0.638,
            0.637,
            0.542,
            0.493,
            0.419,
            0.394,
            0.331,
            0.325,
            0.456,
            0.505,
            0.494,
            0.489,
            0.565,
            0.509,
            0.539,
            0.609,
            0.758,
            0.753,
            0.679,
            0.585,
            0.57,
            0.581,
            0.575,
            0.641,
            0.598,
            0.621,
            0.565,
            0.564,
            0.541,
            0.484,
            0.539,
            0.568,
            0.542
           ]
          },
          {
           "label": "Wind level",
           "values": [
            "1",
            "1",
            "1",
            "1",
            "1",
            "1",
            "0",
            "?",
            "1",
            "0",
            "0",
            "0",
            "0",
            "0",
            "1",
            "1",
            "1",
            "1",
            "1",
            "1",
            "1",
            "1",
            "1",
            "1",
            "0",
            "0",
            "1",
            "0",
            "0",
            "0",
            "0",
            "0",
            "0",
            "0",
            "1",
            "1",
            "1",
            "1",
            "1",
            "1",
            "1",
            "1",
            "1",
            "1",
            "0",
            "1",
            "1",
            "1",
            "2",
            "2",
            "1",
            "1",
            "2",
            "2",
            "2",
            "2",
            "2",
            "2",
            "2",
            "1",
            "2",
            "2",
            "2",
            "2",
            "2",
            "2",
            "2",
            "2",
            "1",
            "1",
            "1",
            "2",
            "1",
            "1",
            "2",
            "2",
            "2",
            "1",
            "2",
            "2",
            "2",
            "2",
            "3",
            "3",
            "2",
            "3",
            "2",
            "3",
            "3",
            "3",
            "3",
            "2",
            "2",
            "2",
            "2",
            "1",
            "1",
            "2",
            "2",
            "?",
            "?",
            "1",
            "1",
            "?",
            "?",
            "1",
            "1",
            "1",
            "1",
            "2",
            "2",
            "2",
            "2",
            "2",
            "2",
            "2",
            "3",
            "2",
            "2",
            "2",
            "2",
            "1",
            "1",
            "2",
            "1",
            "2",
            "1",
            "2",
            "2",
            "2",
            "2",
            "2",
            "2",
            "2",
            "2",
            "2",
            "3",
            "3",
            "2",
            "3",
            "3",
            "3",
            "3",
            "3",
            "3",
            "2",
            "2",
            "2",
            "2",
            "2",
            "1",
            "2",
            "2",
            "2",
            "2",
            "2",
            "2",
            "2",
            "2",
            "2",
            "2",
            "2",
            "3",
            "3",
            "3",
            "2",
            "?",
            "3",
            "2",
            "2",
            "2",
            "2",
            "2",
            "2",
            "2",
            "2",
            "2",
            "2",
            "2",
            "3",
            "3",
            "3",
            "3",
            "2",
            "2",
            "2",
            "1",
            "2",
            "2",
            "2",
            "2",
            "2",
            "2",
            "3",
            "3",
            "3",
            "3",
            "3",
            "3",
            "3",
            "3",
            "3",
            "3",
            "2",
            "2",
            "2",
            "3",
            "3",
            "2",
            "2",
            "2",
            "2",
            "1",
            "1",
            "1",
            "0",
            "1",
            "1",
            "1",
            "1",
            "1",
            "1",
            "1",
            "1",
            "?",
            "2",
            "2",
            "2",
            "2",
            "?",
            "2",
            "2",
            "2",
            "2",
            "2",
            "2",
            "?",
            "1",
            "1",
            "1",
            "2",
            "1",
            "1",
            "1",
            "1",
            "1",
            "2",
            "2",
            "2",
            "2",
            "1",
            "2",
            "1",
            "1",
            "1",
            "1",
            "0",
            "1",
            "1",
            "1",
            "2",
            "2",
            "2",
            "2",
            "2",
            "2",
            "?",
            "2",
            "2",
            "2",
            "2",
            "2",
            "2",
            "2",
            "1",
            "1",
            "1",
            "1",
            "?",
            "1",
            "1",
            "1",
            "1",
            "1",
            "2",
            "2",
            "2",
            "2",
            "2",
            "2",
            "3",
            "2",
            "2",
            "2",
            "2",
            "3",
            "2",
            "2",
            "2",
            "2",
            "2",
            "2",
            "2",
            "1",
            "1",
            "1",
            "1",
            "1",
            "2",
            "2",
            "1",
            "1",
            "1",
            "2",
            "2",
            "2",
            "1",
            "1",
            "1",
            "1",
            "1",
            "1",
            "1",
            "1",
            "1",
            "1",
            "1",
            "1",
            "1",
            "1",
            "1",
            "2",
            "2",
            "2",
            "2",
            "2",
            "2",
            "2",
            "2",
            "2",
            "1",
            "1",
            "1",
            "1",
            "2",
            "?",
            "2",
            "?",
            "1",
            "1",
            "1",
            "2",
            "1",
            "1",
            "0",
            "0",
            "?",
            "1",
            "1",
            "0",
            "0",
            "0",
            "1",
            "1",
            "1",
            "1",
            "1",
            "1",
            "1",
            "2",
            "2",
            "2",
            "2",
            "2",
            "2",
            "2",
            "2",
            "1",
            "2",
            "?",
            "1",
            "1",
            "1",
            "1",
            "1",
            "1",
            "1",
            "1",
            "1",
            "1",
            "1",
            "1",
            "1",
            "?",
            "?",
            "2",
            "2",
            "2",
            "2",
            "3",
            "2",
            "1",
            "2",
            "2",
            "1",
            "1",
            "1",
            "1",
            "1",
            "1",
            "1",
            "1",
            "1",
            "1",
            "1",
            "1",
            "1",
            "1",
            "1",
            "1",
            "1",
            "1",
            "1",
            "2",
            "2",
            "3",
            "3",
            "2",
            "3",
            "2",
            "2",
            "2",
            "2",
            "2",
            "1",
            "1",
            "1",
            "0",
            "0",
            "?",
            "0",
            "0",
            "1",
            "0",
            "0",
            "0",
            "0",
            "1",
            "1",
            "1",
            "0",
            "0",
            "0",
            "0",
            "0",
            "1",
            "1",
            "0",
            "0",
            "1",
            "1",
            "1",
            "1",
            "2",
            "1",
            "1",
            "2",
            "3",
            "3",
            "3",
            "2",
            "2",
            "2",
            "2",
            "2",
            "2",
            "2",
            "1",
            "1",
            "1",
            "?",
            "1",
            "1",
            "2",
            "1",
            "1",
            "1",
            "1",
            "1",
            "1",
            "1",
            "1",
            "1",
            "1",
            "1",
            "?",
            "2",
            "2",
            "2",
            "2",
            "1",
            "2",
            "2",
            "2",
            "?",
            "2",
            "2",
            "2",
            "2",
            "3",
            "3",
            "3",
            "2",
            "2",
            "2",
            "2",
            "1",
            "1",
            "1",
            "?",
            "0",
            "0",
            "1",
            "1",
            "1",
            "1",
            "2",
            "2",
            "2",
            "2",
            "?",
            "2",
            "2",
            "2",
            "2",
            "1",
            "2",
            "1",
            "2",
            "1",
            "2",
            "2",
            "2",
            "2",
            "2",
            "2",
            "?",
            "2",
            "2",
            "2",
            "1",
            "1",
            "1",
            "1",
            "2",
            "2",
            "2",
            "2",
            "2",
            "2",
            "2",
            "3",
            "3",
            "3",
            "2",
            "3",
            "3",
            "3",
            "3",
            "3",
            "3",
            "2",
            "2",
            "2",
            "2",
            "?",
            "2",
            "2",
            "2",
            "2",
            "1",
            "2",
            "1",
            "?",
            "2",
            "2",
            "2",
            "2",
            "1",
            "1",
            "1",
            "2",
            "2",
            "2",
            "2",
            "2",
            "2",
            "?",
            "3",
            "2",
            "2",
            "2",
            "2",
            "2",
            "2",
            "2",
            "2",
            "1",
            "2",
            "2",
            "2",
            "3",
            "?",
            "2",
            "2",
            "?",
            "2",
            "2",
            "2",
            "2",
            "2",
            "?",
            "2",
            "?",
            "1",
            "2",
            "1",
            "2",
            "1",
            "2",
            "2",
            "?",
            "2",
            "2",
            "2",
            "2",
            "2",
            "2",
            "2",
            "2",
            "2",
            "2",
            "?",
            "2",
            "2",
            "2",
            "2",
            "2",
            "2",
            "2",
            "1",
            "2",
            "2",
            "2",
            "2",
            "2",
            "2",
            "?",
            "2",
            "2",
            "2",
            "1",
            "2",
            "2",
            "2",
            "1",
            "1",
            "1",
            "1",
            "?",
            "1",
            "1",
            "1",
            "1",
            "1",
            "2",
            "1",
            "2",
            "2",
            "2",
            "2",
            "2",
            "2",
            "2",
            "2",
            "1",
            "1",
            "1",
            "1",
            "1",
            "1",
            "1",
            "1",
            "1",
            "1",
            "1",
            "1",
            "1",
            "2",
            "1",
            "1",
            "2",
            "1",
            "1",
            "1",
            "1",
            "1",
            "1",
            "0",
            "1",
            "0",
            "1",
            "1",
            "0",
            "0",
            "1",
            "0",
            "1",
            "1",
            "?",
            "1",
            "1",
            "1",
            "2",
            "2",
            "2",
            "2",
            "2",
            "2",
            "2",
            "2",
            "2",
            "2",
            "2",
            "1",
            "1",
            "1",
            "2",
            "3",
            "3",
            "2",
            "2",
            "3",
            "2",
            "3",
            "3",
            "3",
            "3",
            "2",
            "2",
            "2",
            "2",
            "2",
            "2",
            "1",
            "?",
            "2",
            "2",
            "2",
            "1",
            "1",
            "2",
            "2",
            "2",
            "2",
            "1",
            "?",
            "1",
            "1",
            "1",
            "1",
            "1",
            "1",
            "1",
            "1",
            "2",
            "2",
            "1",
            "1",
            "1",
            "1",
            "1"
           ]
          }
         ],
         "marker": {
          "line": {
           "color": "white",
           "width": 0.5
          },
          "showscale": false
         },
         "type": "splom"
        }
       ],
       "layout": {
        "height": 1200,
        "template": {
         "data": {
          "bar": [
           {
            "error_x": {
             "color": "#2a3f5f"
            },
            "error_y": {
             "color": "#2a3f5f"
            },
            "marker": {
             "line": {
              "color": "#E5ECF6",
              "width": 0.5
             },
             "pattern": {
              "fillmode": "overlay",
              "size": 10,
              "solidity": 0.2
             }
            },
            "type": "bar"
           }
          ],
          "barpolar": [
           {
            "marker": {
             "line": {
              "color": "#E5ECF6",
              "width": 0.5
             },
             "pattern": {
              "fillmode": "overlay",
              "size": 10,
              "solidity": 0.2
             }
            },
            "type": "barpolar"
           }
          ],
          "carpet": [
           {
            "aaxis": {
             "endlinecolor": "#2a3f5f",
             "gridcolor": "white",
             "linecolor": "white",
             "minorgridcolor": "white",
             "startlinecolor": "#2a3f5f"
            },
            "baxis": {
             "endlinecolor": "#2a3f5f",
             "gridcolor": "white",
             "linecolor": "white",
             "minorgridcolor": "white",
             "startlinecolor": "#2a3f5f"
            },
            "type": "carpet"
           }
          ],
          "choropleth": [
           {
            "colorbar": {
             "outlinewidth": 0,
             "ticks": ""
            },
            "type": "choropleth"
           }
          ],
          "contour": [
           {
            "colorbar": {
             "outlinewidth": 0,
             "ticks": ""
            },
            "colorscale": [
             [
              0,
              "#0d0887"
             ],
             [
              0.1111111111111111,
              "#46039f"
             ],
             [
              0.2222222222222222,
              "#7201a8"
             ],
             [
              0.3333333333333333,
              "#9c179e"
             ],
             [
              0.4444444444444444,
              "#bd3786"
             ],
             [
              0.5555555555555556,
              "#d8576b"
             ],
             [
              0.6666666666666666,
              "#ed7953"
             ],
             [
              0.7777777777777778,
              "#fb9f3a"
             ],
             [
              0.8888888888888888,
              "#fdca26"
             ],
             [
              1,
              "#f0f921"
             ]
            ],
            "type": "contour"
           }
          ],
          "contourcarpet": [
           {
            "colorbar": {
             "outlinewidth": 0,
             "ticks": ""
            },
            "type": "contourcarpet"
           }
          ],
          "heatmap": [
           {
            "colorbar": {
             "outlinewidth": 0,
             "ticks": ""
            },
            "colorscale": [
             [
              0,
              "#0d0887"
             ],
             [
              0.1111111111111111,
              "#46039f"
             ],
             [
              0.2222222222222222,
              "#7201a8"
             ],
             [
              0.3333333333333333,
              "#9c179e"
             ],
             [
              0.4444444444444444,
              "#bd3786"
             ],
             [
              0.5555555555555556,
              "#d8576b"
             ],
             [
              0.6666666666666666,
              "#ed7953"
             ],
             [
              0.7777777777777778,
              "#fb9f3a"
             ],
             [
              0.8888888888888888,
              "#fdca26"
             ],
             [
              1,
              "#f0f921"
             ]
            ],
            "type": "heatmap"
           }
          ],
          "heatmapgl": [
           {
            "colorbar": {
             "outlinewidth": 0,
             "ticks": ""
            },
            "colorscale": [
             [
              0,
              "#0d0887"
             ],
             [
              0.1111111111111111,
              "#46039f"
             ],
             [
              0.2222222222222222,
              "#7201a8"
             ],
             [
              0.3333333333333333,
              "#9c179e"
             ],
             [
              0.4444444444444444,
              "#bd3786"
             ],
             [
              0.5555555555555556,
              "#d8576b"
             ],
             [
              0.6666666666666666,
              "#ed7953"
             ],
             [
              0.7777777777777778,
              "#fb9f3a"
             ],
             [
              0.8888888888888888,
              "#fdca26"
             ],
             [
              1,
              "#f0f921"
             ]
            ],
            "type": "heatmapgl"
           }
          ],
          "histogram": [
           {
            "marker": {
             "pattern": {
              "fillmode": "overlay",
              "size": 10,
              "solidity": 0.2
             }
            },
            "type": "histogram"
           }
          ],
          "histogram2d": [
           {
            "colorbar": {
             "outlinewidth": 0,
             "ticks": ""
            },
            "colorscale": [
             [
              0,
              "#0d0887"
             ],
             [
              0.1111111111111111,
              "#46039f"
             ],
             [
              0.2222222222222222,
              "#7201a8"
             ],
             [
              0.3333333333333333,
              "#9c179e"
             ],
             [
              0.4444444444444444,
              "#bd3786"
             ],
             [
              0.5555555555555556,
              "#d8576b"
             ],
             [
              0.6666666666666666,
              "#ed7953"
             ],
             [
              0.7777777777777778,
              "#fb9f3a"
             ],
             [
              0.8888888888888888,
              "#fdca26"
             ],
             [
              1,
              "#f0f921"
             ]
            ],
            "type": "histogram2d"
           }
          ],
          "histogram2dcontour": [
           {
            "colorbar": {
             "outlinewidth": 0,
             "ticks": ""
            },
            "colorscale": [
             [
              0,
              "#0d0887"
             ],
             [
              0.1111111111111111,
              "#46039f"
             ],
             [
              0.2222222222222222,
              "#7201a8"
             ],
             [
              0.3333333333333333,
              "#9c179e"
             ],
             [
              0.4444444444444444,
              "#bd3786"
             ],
             [
              0.5555555555555556,
              "#d8576b"
             ],
             [
              0.6666666666666666,
              "#ed7953"
             ],
             [
              0.7777777777777778,
              "#fb9f3a"
             ],
             [
              0.8888888888888888,
              "#fdca26"
             ],
             [
              1,
              "#f0f921"
             ]
            ],
            "type": "histogram2dcontour"
           }
          ],
          "mesh3d": [
           {
            "colorbar": {
             "outlinewidth": 0,
             "ticks": ""
            },
            "type": "mesh3d"
           }
          ],
          "parcoords": [
           {
            "line": {
             "colorbar": {
              "outlinewidth": 0,
              "ticks": ""
             }
            },
            "type": "parcoords"
           }
          ],
          "pie": [
           {
            "automargin": true,
            "type": "pie"
           }
          ],
          "scatter": [
           {
            "marker": {
             "colorbar": {
              "outlinewidth": 0,
              "ticks": ""
             }
            },
            "type": "scatter"
           }
          ],
          "scatter3d": [
           {
            "line": {
             "colorbar": {
              "outlinewidth": 0,
              "ticks": ""
             }
            },
            "marker": {
             "colorbar": {
              "outlinewidth": 0,
              "ticks": ""
             }
            },
            "type": "scatter3d"
           }
          ],
          "scattercarpet": [
           {
            "marker": {
             "colorbar": {
              "outlinewidth": 0,
              "ticks": ""
             }
            },
            "type": "scattercarpet"
           }
          ],
          "scattergeo": [
           {
            "marker": {
             "colorbar": {
              "outlinewidth": 0,
              "ticks": ""
             }
            },
            "type": "scattergeo"
           }
          ],
          "scattergl": [
           {
            "marker": {
             "colorbar": {
              "outlinewidth": 0,
              "ticks": ""
             }
            },
            "type": "scattergl"
           }
          ],
          "scattermapbox": [
           {
            "marker": {
             "colorbar": {
              "outlinewidth": 0,
              "ticks": ""
             }
            },
            "type": "scattermapbox"
           }
          ],
          "scatterpolar": [
           {
            "marker": {
             "colorbar": {
              "outlinewidth": 0,
              "ticks": ""
             }
            },
            "type": "scatterpolar"
           }
          ],
          "scatterpolargl": [
           {
            "marker": {
             "colorbar": {
              "outlinewidth": 0,
              "ticks": ""
             }
            },
            "type": "scatterpolargl"
           }
          ],
          "scatterternary": [
           {
            "marker": {
             "colorbar": {
              "outlinewidth": 0,
              "ticks": ""
             }
            },
            "type": "scatterternary"
           }
          ],
          "surface": [
           {
            "colorbar": {
             "outlinewidth": 0,
             "ticks": ""
            },
            "colorscale": [
             [
              0,
              "#0d0887"
             ],
             [
              0.1111111111111111,
              "#46039f"
             ],
             [
              0.2222222222222222,
              "#7201a8"
             ],
             [
              0.3333333333333333,
              "#9c179e"
             ],
             [
              0.4444444444444444,
              "#bd3786"
             ],
             [
              0.5555555555555556,
              "#d8576b"
             ],
             [
              0.6666666666666666,
              "#ed7953"
             ],
             [
              0.7777777777777778,
              "#fb9f3a"
             ],
             [
              0.8888888888888888,
              "#fdca26"
             ],
             [
              1,
              "#f0f921"
             ]
            ],
            "type": "surface"
           }
          ],
          "table": [
           {
            "cells": {
             "fill": {
              "color": "#EBF0F8"
             },
             "line": {
              "color": "white"
             }
            },
            "header": {
             "fill": {
              "color": "#C8D4E3"
             },
             "line": {
              "color": "white"
             }
            },
            "type": "table"
           }
          ]
         },
         "layout": {
          "annotationdefaults": {
           "arrowcolor": "#2a3f5f",
           "arrowhead": 0,
           "arrowwidth": 1
          },
          "autotypenumbers": "strict",
          "coloraxis": {
           "colorbar": {
            "outlinewidth": 0,
            "ticks": ""
           }
          },
          "colorscale": {
           "diverging": [
            [
             0,
             "#8e0152"
            ],
            [
             0.1,
             "#c51b7d"
            ],
            [
             0.2,
             "#de77ae"
            ],
            [
             0.3,
             "#f1b6da"
            ],
            [
             0.4,
             "#fde0ef"
            ],
            [
             0.5,
             "#f7f7f7"
            ],
            [
             0.6,
             "#e6f5d0"
            ],
            [
             0.7,
             "#b8e186"
            ],
            [
             0.8,
             "#7fbc41"
            ],
            [
             0.9,
             "#4d9221"
            ],
            [
             1,
             "#276419"
            ]
           ],
           "sequential": [
            [
             0,
             "#0d0887"
            ],
            [
             0.1111111111111111,
             "#46039f"
            ],
            [
             0.2222222222222222,
             "#7201a8"
            ],
            [
             0.3333333333333333,
             "#9c179e"
            ],
            [
             0.4444444444444444,
             "#bd3786"
            ],
            [
             0.5555555555555556,
             "#d8576b"
            ],
            [
             0.6666666666666666,
             "#ed7953"
            ],
            [
             0.7777777777777778,
             "#fb9f3a"
            ],
            [
             0.8888888888888888,
             "#fdca26"
            ],
            [
             1,
             "#f0f921"
            ]
           ],
           "sequentialminus": [
            [
             0,
             "#0d0887"
            ],
            [
             0.1111111111111111,
             "#46039f"
            ],
            [
             0.2222222222222222,
             "#7201a8"
            ],
            [
             0.3333333333333333,
             "#9c179e"
            ],
            [
             0.4444444444444444,
             "#bd3786"
            ],
            [
             0.5555555555555556,
             "#d8576b"
            ],
            [
             0.6666666666666666,
             "#ed7953"
            ],
            [
             0.7777777777777778,
             "#fb9f3a"
            ],
            [
             0.8888888888888888,
             "#fdca26"
            ],
            [
             1,
             "#f0f921"
            ]
           ]
          },
          "colorway": [
           "#636efa",
           "#EF553B",
           "#00cc96",
           "#ab63fa",
           "#FFA15A",
           "#19d3f3",
           "#FF6692",
           "#B6E880",
           "#FF97FF",
           "#FECB52"
          ],
          "font": {
           "color": "#2a3f5f"
          },
          "geo": {
           "bgcolor": "white",
           "lakecolor": "white",
           "landcolor": "#E5ECF6",
           "showlakes": true,
           "showland": true,
           "subunitcolor": "white"
          },
          "hoverlabel": {
           "align": "left"
          },
          "hovermode": "closest",
          "mapbox": {
           "style": "light"
          },
          "paper_bgcolor": "white",
          "plot_bgcolor": "#E5ECF6",
          "polar": {
           "angularaxis": {
            "gridcolor": "white",
            "linecolor": "white",
            "ticks": ""
           },
           "bgcolor": "#E5ECF6",
           "radialaxis": {
            "gridcolor": "white",
            "linecolor": "white",
            "ticks": ""
           }
          },
          "scene": {
           "xaxis": {
            "backgroundcolor": "#E5ECF6",
            "gridcolor": "white",
            "gridwidth": 2,
            "linecolor": "white",
            "showbackground": true,
            "ticks": "",
            "zerolinecolor": "white"
           },
           "yaxis": {
            "backgroundcolor": "#E5ECF6",
            "gridcolor": "white",
            "gridwidth": 2,
            "linecolor": "white",
            "showbackground": true,
            "ticks": "",
            "zerolinecolor": "white"
           },
           "zaxis": {
            "backgroundcolor": "#E5ECF6",
            "gridcolor": "white",
            "gridwidth": 2,
            "linecolor": "white",
            "showbackground": true,
            "ticks": "",
            "zerolinecolor": "white"
           }
          },
          "shapedefaults": {
           "line": {
            "color": "#2a3f5f"
           }
          },
          "ternary": {
           "aaxis": {
            "gridcolor": "white",
            "linecolor": "white",
            "ticks": ""
           },
           "baxis": {
            "gridcolor": "white",
            "linecolor": "white",
            "ticks": ""
           },
           "bgcolor": "#E5ECF6",
           "caxis": {
            "gridcolor": "white",
            "linecolor": "white",
            "ticks": ""
           }
          },
          "title": {
           "x": 0.05
          },
          "xaxis": {
           "automargin": true,
           "gridcolor": "white",
           "linecolor": "white",
           "ticks": "",
           "title": {
            "standoff": 15
           },
           "zerolinecolor": "white",
           "zerolinewidth": 2
          },
          "yaxis": {
           "automargin": true,
           "gridcolor": "white",
           "linecolor": "white",
           "ticks": "",
           "title": {
            "standoff": 15
           },
           "zerolinecolor": "white",
           "zerolinewidth": 2
          }
         }
        },
        "title": {
         "text": "Pairwise feature scatter plots"
        },
        "width": 1200
       }
      }
     },
     "metadata": {},
     "output_type": "display_data"
    }
   ],
   "source": [
    "fig_scatmat_weather = go.Figure(data=go.Splom(\n",
    "                        dimensions=[dict(label=feature, values=weatherdf[feature]) \\\n",
    "                                    for feature in visualizable_feature_names_weather],\n",
    "                        marker=dict(showscale=False, line_color='white', line_width=0.5)))\n",
    "\n",
    "fig_scatmat_weather.update_layout(title='Pairwise feature scatter plots', \\\n",
    "                                  width=400 * num_visualizable_features_weather, \\\n",
    "                                  height=400 * num_visualizable_features_weather)\n",
    "\n",
    "fig_scatmat_weather.show()"
   ]
  },
  {
   "cell_type": "markdown",
   "metadata": {},
   "source": [
    "Everything seems fine. One interesting observation is that `\"Temperature\"` and `\"Humidity\"` seem to have a high correlation with each other."
   ]
  },
  {
   "cell_type": "markdown",
   "metadata": {},
   "source": [
    "# Data Preprocessing"
   ]
  },
  {
   "cell_type": "markdown",
   "metadata": {},
   "source": [
    "### 1.Dropping Uninformative feature"
   ]
  },
  {
   "cell_type": "code",
   "execution_count": 10,
   "metadata": {},
   "outputs": [],
   "source": [
    "weatherdf = weatherdf.drop(columns = \"Index\")"
   ]
  },
  {
   "cell_type": "markdown",
   "metadata": {},
   "source": [
    "### 2. Handling an ordinal feature with MCAR missing values"
   ]
  },
  {
   "cell_type": "markdown",
   "metadata": {},
   "source": [
    "On to adressing missing values in `\"Wind level\"` now. First off, we know almost surely this is missing MCAR from what the expert told us, so there is no need to add a new feature that shows whether the value on `\"Wind level\"` was missing in the original data, since this would almost surely just noise. Second, this is an ordinal feature and thus, imputing values using neighbourhoods (found using proximity among other features, specifically `\"Temperature\"` and `\"Humidity\"`) makes more sense compared to some other strategy like replacing it with the majority value."
   ]
  },
  {
   "cell_type": "code",
   "execution_count": 11,
   "metadata": {},
   "outputs": [],
   "source": [
    "is_wind_level_missing = (weatherdf[\"Wind level\"] == \"?\")"
   ]
  },
  {
   "cell_type": "code",
   "execution_count": 12,
   "metadata": {},
   "outputs": [
    {
     "data": {
      "text/plain": [
       "array([  7,  99, 100, 103, 104, 166, 224, 229, 236, 266, 278, 345, 347,\n",
       "       356, 379, 393, 394, 439, 480, 495, 504, 519, 530, 546, 575, 583,\n",
       "       597, 612, 615, 621, 623, 631, 642, 657, 669, 719, 755, 766],\n",
       "      dtype=int64)"
      ]
     },
     "metadata": {},
     "output_type": "display_data"
    }
   ],
   "source": [
    "display(np.where(is_wind_level_missing)[0])"
   ]
  },
  {
   "cell_type": "code",
   "execution_count": 13,
   "metadata": {},
   "outputs": [
    {
     "data": {
      "text/plain": [
       "KNeighborsClassifier(n_neighbors=3)"
      ]
     },
     "execution_count": 13,
     "metadata": {},
     "output_type": "execute_result"
    }
   ],
   "source": [
    "from sklearn.neighbors import KNeighborsClassifier\n",
    "knn_imputor = KNeighborsClassifier(n_neighbors=3)\n",
    "X_train_knn = weatherdf[np.logical_not(is_wind_level_missing)][[\"Temperature\" , \"Humidity\"]].astype(\"float\")\n",
    "y_train_knn = weatherdf[np.logical_not(is_wind_level_missing)][\"Wind level\"].astype(\"float\")\n",
    "knn_imputor.fit(X_train_knn, y_train_knn)"
   ]
  },
  {
   "cell_type": "code",
   "execution_count": 14,
   "metadata": {},
   "outputs": [],
   "source": [
    "X_production_knn= weatherdf[is_wind_level_missing][[\"Temperature\", \"Humidity\"]].astype(\"float\")\n",
    "y_production_knn= knn_imputor.predict(X_production_knn)"
   ]
  },
  {
   "cell_type": "code",
   "execution_count": 15,
   "metadata": {},
   "outputs": [
    {
     "data": {
      "text/plain": [
       "array([0., 1., 2., 2., 2., 2., 2., 2., 2., 2., 2., 1., 1., 2., 1., 1., 2.,\n",
       "       0., 1., 2., 2., 2., 2., 2., 2., 2., 2., 2., 2., 1., 1., 2., 2., 2.,\n",
       "       2., 0., 2., 1.])"
      ]
     },
     "metadata": {},
     "output_type": "display_data"
    }
   ],
   "source": [
    "display(y_production_knn)"
   ]
  },
  {
   "cell_type": "markdown",
   "metadata": {},
   "source": [
    "replace the portion of `weather_df_3` at the intersection of `is_wind_level_missing` and `\"Wind level\"` (remember you have to use `.loc`) with the imputed labels, `y_production_knn`:"
   ]
  },
  {
   "cell_type": "code",
   "execution_count": 16,
   "metadata": {},
   "outputs": [],
   "source": [
    "weatherdf.loc[is_wind_level_missing, \"Wind level\"] = y_production_knn"
   ]
  },
  {
   "cell_type": "markdown",
   "metadata": {},
   "source": [
    "### 3. Converting an ordinal feature into unary encoding"
   ]
  },
  {
   "cell_type": "markdown",
   "metadata": {},
   "source": [
    "Ordinal features are \"categorical\" features with an ordering defined between \"categories\" (so a \"category\" is bigger than some \"categories\" in that ordering, equal to itself in that ordering, and smaller than the rest of the \"categories\"). This means that integers are not a suitable encoding, since in integers the distance between $0$ and $1$ is the same as the distance between $1$ and $2$ and that **is** important to numerical algorithms since they will assign a fixed weight which would multiply this number as a part of how they work (at least with linear models). One-hot encoding is not the best encoding for them neither, since it is too loose. That will assign different weights to each encoding which may break the ordering of the \"categories\". So, we should resort to something where weights assigned by numerical algorithms can work cumulatively: unary encoding. In unary encoding for integers between $0$ and $n$, each encoding is of length $n$. The encoding of $0$ is $n$ zeros, $1$ is $n-1$ zeros followed by a single one, $k$ ($0 \\leq k \\leq n$) is $n-k$ zeros followed by $k$ ones and so on and so forth. So you can see the distances between increasing \"categories\" are the sum of different weights and it is cumulative."
   ]
  },
  {
   "cell_type": "code",
   "execution_count": 17,
   "metadata": {},
   "outputs": [],
   "source": [
    "num_days = weatherdf.shape[0]\n",
    "wind_level_int = weatherdf[\"Wind level\"].astype(\"int\")\n",
    "wind_level_uniques = np.sort(np.unique(wind_level_int))\n",
    "max_wind_levels = wind_level_uniques.max()\n",
    "wind_level_encoded = np.zeros((num_days, max_wind_levels), dtype=\"int\")\n",
    "weather_df_2= weatherdf.copy()\n",
    "\n",
    "for (i, day_wind_level) in enumerate(wind_level_int):\n",
    "    wind_level_encoded[i, :day_wind_level] = 1   \n",
    "for level in range(max_wind_levels):\n",
    "    weather_df_2[\"Wind level > \" + str(level)] = wind_level_encoded[:, level]\n",
    "weather_df_3= weather_df_2.drop(columns=\"Wind level\")"
   ]
  },
  {
   "cell_type": "code",
   "execution_count": 18,
   "metadata": {},
   "outputs": [
    {
     "data": {
      "text/html": [
       "<div>\n",
       "<style scoped>\n",
       "    .dataframe tbody tr th:only-of-type {\n",
       "        vertical-align: middle;\n",
       "    }\n",
       "\n",
       "    .dataframe tbody tr th {\n",
       "        vertical-align: top;\n",
       "    }\n",
       "\n",
       "    .dataframe thead th {\n",
       "        text-align: right;\n",
       "    }\n",
       "</style>\n",
       "<table border=\"1\" class=\"dataframe\">\n",
       "  <thead>\n",
       "    <tr style=\"text-align: right;\">\n",
       "      <th></th>\n",
       "      <th>Date</th>\n",
       "      <th>Temperature</th>\n",
       "      <th>Humidity</th>\n",
       "      <th>Wind level &gt; 0</th>\n",
       "      <th>Wind level &gt; 1</th>\n",
       "      <th>Wind level &gt; 2</th>\n",
       "    </tr>\n",
       "  </thead>\n",
       "  <tbody>\n",
       "    <tr>\n",
       "      <th>0</th>\n",
       "      <td>2015-03-15</td>\n",
       "      <td>28.1</td>\n",
       "      <td>0.563</td>\n",
       "      <td>1</td>\n",
       "      <td>0</td>\n",
       "      <td>0</td>\n",
       "    </tr>\n",
       "    <tr>\n",
       "      <th>1</th>\n",
       "      <td>2015-03-16</td>\n",
       "      <td>29.2</td>\n",
       "      <td>0.604</td>\n",
       "      <td>1</td>\n",
       "      <td>0</td>\n",
       "      <td>0</td>\n",
       "    </tr>\n",
       "    <tr>\n",
       "      <th>2</th>\n",
       "      <td>2015-03-17</td>\n",
       "      <td>31.4</td>\n",
       "      <td>0.637</td>\n",
       "      <td>1</td>\n",
       "      <td>0</td>\n",
       "      <td>0</td>\n",
       "    </tr>\n",
       "    <tr>\n",
       "      <th>3</th>\n",
       "      <td>2015-03-18</td>\n",
       "      <td>31.4</td>\n",
       "      <td>0.658</td>\n",
       "      <td>1</td>\n",
       "      <td>0</td>\n",
       "      <td>0</td>\n",
       "    </tr>\n",
       "    <tr>\n",
       "      <th>4</th>\n",
       "      <td>2015-03-19</td>\n",
       "      <td>31.4</td>\n",
       "      <td>0.662</td>\n",
       "      <td>1</td>\n",
       "      <td>0</td>\n",
       "      <td>0</td>\n",
       "    </tr>\n",
       "    <tr>\n",
       "      <th>...</th>\n",
       "      <td>...</td>\n",
       "      <td>...</td>\n",
       "      <td>...</td>\n",
       "      <td>...</td>\n",
       "      <td>...</td>\n",
       "      <td>...</td>\n",
       "    </tr>\n",
       "    <tr>\n",
       "      <th>777</th>\n",
       "      <td>2017-04-30</td>\n",
       "      <td>32.2</td>\n",
       "      <td>0.541</td>\n",
       "      <td>1</td>\n",
       "      <td>0</td>\n",
       "      <td>0</td>\n",
       "    </tr>\n",
       "    <tr>\n",
       "      <th>778</th>\n",
       "      <td>2017-05-01</td>\n",
       "      <td>30.5</td>\n",
       "      <td>0.484</td>\n",
       "      <td>1</td>\n",
       "      <td>0</td>\n",
       "      <td>0</td>\n",
       "    </tr>\n",
       "    <tr>\n",
       "      <th>779</th>\n",
       "      <td>2017-05-02</td>\n",
       "      <td>29.6</td>\n",
       "      <td>0.539</td>\n",
       "      <td>1</td>\n",
       "      <td>0</td>\n",
       "      <td>0</td>\n",
       "    </tr>\n",
       "    <tr>\n",
       "      <th>780</th>\n",
       "      <td>2017-05-03</td>\n",
       "      <td>28.4</td>\n",
       "      <td>0.568</td>\n",
       "      <td>1</td>\n",
       "      <td>0</td>\n",
       "      <td>0</td>\n",
       "    </tr>\n",
       "    <tr>\n",
       "      <th>781</th>\n",
       "      <td>2017-05-04</td>\n",
       "      <td>27.9</td>\n",
       "      <td>0.542</td>\n",
       "      <td>1</td>\n",
       "      <td>0</td>\n",
       "      <td>0</td>\n",
       "    </tr>\n",
       "  </tbody>\n",
       "</table>\n",
       "<p>782 rows × 6 columns</p>\n",
       "</div>"
      ],
      "text/plain": [
       "           Date  Temperature  Humidity  Wind level > 0  Wind level > 1  \\\n",
       "0    2015-03-15         28.1     0.563               1               0   \n",
       "1    2015-03-16         29.2     0.604               1               0   \n",
       "2    2015-03-17         31.4     0.637               1               0   \n",
       "3    2015-03-18         31.4     0.658               1               0   \n",
       "4    2015-03-19         31.4     0.662               1               0   \n",
       "..          ...          ...       ...             ...             ...   \n",
       "777  2017-04-30         32.2     0.541               1               0   \n",
       "778  2017-05-01         30.5     0.484               1               0   \n",
       "779  2017-05-02         29.6     0.539               1               0   \n",
       "780  2017-05-03         28.4     0.568               1               0   \n",
       "781  2017-05-04         27.9     0.542               1               0   \n",
       "\n",
       "     Wind level > 2  \n",
       "0                 0  \n",
       "1                 0  \n",
       "2                 0  \n",
       "3                 0  \n",
       "4                 0  \n",
       "..              ...  \n",
       "777               0  \n",
       "778               0  \n",
       "779               0  \n",
       "780               0  \n",
       "781               0  \n",
       "\n",
       "[782 rows x 6 columns]"
      ]
     },
     "metadata": {},
     "output_type": "display_data"
    }
   ],
   "source": [
    "display(weather_df_3)"
   ]
  },
  {
   "cell_type": "code",
   "execution_count": 19,
   "metadata": {},
   "outputs": [],
   "source": [
    "from sklearn.preprocessing import StandardScaler\n",
    "weather_numerical = weather_df_3[[\"Temperature\", \"Humidity\"]]\n",
    "weather_scaler = StandardScaler()\n",
    "weather_numerical_standardized = weather_scaler.fit_transform(weather_numerical)\n",
    "weather_df_3[[\"Temperature\", \"Humidity\"]] = weather_numerical_standardized"
   ]
  },
  {
   "cell_type": "code",
   "execution_count": 20,
   "metadata": {},
   "outputs": [
    {
     "data": {
      "text/html": [
       "<div>\n",
       "<style scoped>\n",
       "    .dataframe tbody tr th:only-of-type {\n",
       "        vertical-align: middle;\n",
       "    }\n",
       "\n",
       "    .dataframe tbody tr th {\n",
       "        vertical-align: top;\n",
       "    }\n",
       "\n",
       "    .dataframe thead th {\n",
       "        text-align: right;\n",
       "    }\n",
       "</style>\n",
       "<table border=\"1\" class=\"dataframe\">\n",
       "  <thead>\n",
       "    <tr style=\"text-align: right;\">\n",
       "      <th></th>\n",
       "      <th>Date</th>\n",
       "      <th>Temperature</th>\n",
       "      <th>Humidity</th>\n",
       "      <th>Wind level &gt; 0</th>\n",
       "      <th>Wind level &gt; 1</th>\n",
       "      <th>Wind level &gt; 2</th>\n",
       "    </tr>\n",
       "  </thead>\n",
       "  <tbody>\n",
       "    <tr>\n",
       "      <th>0</th>\n",
       "      <td>2015-03-15</td>\n",
       "      <td>1.242275</td>\n",
       "      <td>1.283167</td>\n",
       "      <td>1</td>\n",
       "      <td>0</td>\n",
       "      <td>0</td>\n",
       "    </tr>\n",
       "    <tr>\n",
       "      <th>1</th>\n",
       "      <td>2015-03-16</td>\n",
       "      <td>1.306493</td>\n",
       "      <td>1.448742</td>\n",
       "      <td>1</td>\n",
       "      <td>0</td>\n",
       "      <td>0</td>\n",
       "    </tr>\n",
       "    <tr>\n",
       "      <th>2</th>\n",
       "      <td>2015-03-17</td>\n",
       "      <td>1.434929</td>\n",
       "      <td>1.582010</td>\n",
       "      <td>1</td>\n",
       "      <td>0</td>\n",
       "      <td>0</td>\n",
       "    </tr>\n",
       "    <tr>\n",
       "      <th>3</th>\n",
       "      <td>2015-03-18</td>\n",
       "      <td>1.434929</td>\n",
       "      <td>1.666817</td>\n",
       "      <td>1</td>\n",
       "      <td>0</td>\n",
       "      <td>0</td>\n",
       "    </tr>\n",
       "    <tr>\n",
       "      <th>4</th>\n",
       "      <td>2015-03-19</td>\n",
       "      <td>1.434929</td>\n",
       "      <td>1.682971</td>\n",
       "      <td>1</td>\n",
       "      <td>0</td>\n",
       "      <td>0</td>\n",
       "    </tr>\n",
       "    <tr>\n",
       "      <th>...</th>\n",
       "      <td>...</td>\n",
       "      <td>...</td>\n",
       "      <td>...</td>\n",
       "      <td>...</td>\n",
       "      <td>...</td>\n",
       "      <td>...</td>\n",
       "    </tr>\n",
       "    <tr>\n",
       "      <th>777</th>\n",
       "      <td>2017-04-30</td>\n",
       "      <td>1.481633</td>\n",
       "      <td>1.194321</td>\n",
       "      <td>1</td>\n",
       "      <td>0</td>\n",
       "      <td>0</td>\n",
       "    </tr>\n",
       "    <tr>\n",
       "      <th>778</th>\n",
       "      <td>2017-05-01</td>\n",
       "      <td>1.382387</td>\n",
       "      <td>0.964131</td>\n",
       "      <td>1</td>\n",
       "      <td>0</td>\n",
       "      <td>0</td>\n",
       "    </tr>\n",
       "    <tr>\n",
       "      <th>779</th>\n",
       "      <td>2017-05-02</td>\n",
       "      <td>1.329845</td>\n",
       "      <td>1.186244</td>\n",
       "      <td>1</td>\n",
       "      <td>0</td>\n",
       "      <td>0</td>\n",
       "    </tr>\n",
       "    <tr>\n",
       "      <th>780</th>\n",
       "      <td>2017-05-03</td>\n",
       "      <td>1.259789</td>\n",
       "      <td>1.303359</td>\n",
       "      <td>1</td>\n",
       "      <td>0</td>\n",
       "      <td>0</td>\n",
       "    </tr>\n",
       "    <tr>\n",
       "      <th>781</th>\n",
       "      <td>2017-05-04</td>\n",
       "      <td>1.230599</td>\n",
       "      <td>1.198360</td>\n",
       "      <td>1</td>\n",
       "      <td>0</td>\n",
       "      <td>0</td>\n",
       "    </tr>\n",
       "  </tbody>\n",
       "</table>\n",
       "<p>782 rows × 6 columns</p>\n",
       "</div>"
      ],
      "text/plain": [
       "           Date  Temperature  Humidity  Wind level > 0  Wind level > 1  \\\n",
       "0    2015-03-15     1.242275  1.283167               1               0   \n",
       "1    2015-03-16     1.306493  1.448742               1               0   \n",
       "2    2015-03-17     1.434929  1.582010               1               0   \n",
       "3    2015-03-18     1.434929  1.666817               1               0   \n",
       "4    2015-03-19     1.434929  1.682971               1               0   \n",
       "..          ...          ...       ...             ...             ...   \n",
       "777  2017-04-30     1.481633  1.194321               1               0   \n",
       "778  2017-05-01     1.382387  0.964131               1               0   \n",
       "779  2017-05-02     1.329845  1.186244               1               0   \n",
       "780  2017-05-03     1.259789  1.303359               1               0   \n",
       "781  2017-05-04     1.230599  1.198360               1               0   \n",
       "\n",
       "     Wind level > 2  \n",
       "0                 0  \n",
       "1                 0  \n",
       "2                 0  \n",
       "3                 0  \n",
       "4                 0  \n",
       "..              ...  \n",
       "777               0  \n",
       "778               0  \n",
       "779               0  \n",
       "780               0  \n",
       "781               0  \n",
       "\n",
       "[782 rows x 6 columns]"
      ]
     },
     "execution_count": 20,
     "metadata": {},
     "output_type": "execute_result"
    }
   ],
   "source": [
    "weather_df_3"
   ]
  },
  {
   "cell_type": "code",
   "execution_count": 21,
   "metadata": {},
   "outputs": [
    {
     "name": "stdout",
     "output_type": "stream",
     "text": [
      "Stored 'weather_df_3' (DataFrame)\n"
     ]
    }
   ],
   "source": [
    "%store weather_df_3"
   ]
  },
  {
   "cell_type": "markdown",
   "metadata": {},
   "source": []
  }
 ],
 "metadata": {
  "kernelspec": {
   "display_name": "base",
   "language": "python",
   "name": "python3"
  },
  "language_info": {
   "codemirror_mode": {
    "name": "ipython",
    "version": 3
   },
   "file_extension": ".py",
   "mimetype": "text/x-python",
   "name": "python",
   "nbconvert_exporter": "python",
   "pygments_lexer": "ipython3",
   "version": "3.9.12"
  }
 },
 "nbformat": 4,
 "nbformat_minor": 2
}
